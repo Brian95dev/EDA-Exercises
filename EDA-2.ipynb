{
 "cells": [
  {
   "cell_type": "markdown",
   "metadata": {},
   "source": [
    "# EDA-2\n",
    "## Dataset: Reporte Delito Extorsión"
   ]
  },
  {
   "cell_type": "code",
   "execution_count": 1,
   "metadata": {},
   "outputs": [],
   "source": [
    "# Importando todas las librerías requeridas para el análisis\n",
    "\n",
    "import numpy as np\n",
    "import pandas as pd\n",
    "\n",
    "import matplotlib.pyplot as plt\n",
    "%matplotlib inline\n",
    "\n",
    "import scipy.stats"
   ]
  },
  {
   "cell_type": "code",
   "execution_count": 2,
   "metadata": {},
   "outputs": [],
   "source": [
    "# Cargando el archivo commo dataframe\n",
    "df_Terr = pd.read_csv(\"./data/Reporte_Delito_Extorsi_n_Polic_a_Nacional.csv\")"
   ]
  },
  {
   "cell_type": "code",
   "execution_count": 3,
   "metadata": {},
   "outputs": [
    {
     "data": {
      "text/plain": [
       "(57736, 8)"
      ]
     },
     "execution_count": 3,
     "metadata": {},
     "output_type": "execute_result"
    }
   ],
   "source": [
    "# Mostrando las dimensiones del dataframe\n",
    "df_Terr.shape"
   ]
  },
  {
   "cell_type": "code",
   "execution_count": 4,
   "metadata": {},
   "outputs": [
    {
     "data": {
      "text/plain": [
       "DEPARTAMENTO    object\n",
       "MUNICIPIO       object\n",
       "CODIGO DANE      int64\n",
       "ARMAS MEDIOS    object\n",
       "FECHA HECHO     object\n",
       "GENERO          object\n",
       "GRUPO ETARIO    object\n",
       "CANTIDAD         int64\n",
       "dtype: object"
      ]
     },
     "execution_count": 4,
     "metadata": {},
     "output_type": "execute_result"
    }
   ],
   "source": [
    "# Verificando los tipos de datos de las columnas\n",
    "# Debido a la naturaleza de los datos, el punto 5 no aplica.\n",
    "df_Terr.dtypes"
   ]
  },
  {
   "cell_type": "code",
   "execution_count": 5,
   "metadata": {},
   "outputs": [
    {
     "data": {
      "text/html": [
       "<div>\n",
       "<style scoped>\n",
       "    .dataframe tbody tr th:only-of-type {\n",
       "        vertical-align: middle;\n",
       "    }\n",
       "\n",
       "    .dataframe tbody tr th {\n",
       "        vertical-align: top;\n",
       "    }\n",
       "\n",
       "    .dataframe thead th {\n",
       "        text-align: right;\n",
       "    }\n",
       "</style>\n",
       "<table border=\"1\" class=\"dataframe\">\n",
       "  <thead>\n",
       "    <tr style=\"text-align: right;\">\n",
       "      <th></th>\n",
       "      <th>DEPARTAMENTO</th>\n",
       "      <th>MUNICIPIO</th>\n",
       "      <th>CODIGO DANE</th>\n",
       "      <th>ARMAS MEDIOS</th>\n",
       "      <th>FECHA HECHO</th>\n",
       "      <th>GENERO</th>\n",
       "      <th>GRUPO ETARIO</th>\n",
       "      <th>CANTIDAD</th>\n",
       "    </tr>\n",
       "  </thead>\n",
       "  <tbody>\n",
       "    <tr>\n",
       "      <th>0</th>\n",
       "      <td>BOLÍVAR</td>\n",
       "      <td>CARTAGENA (CT)</td>\n",
       "      <td>13001000</td>\n",
       "      <td>NO REPORTADO</td>\n",
       "      <td>01/01/2010</td>\n",
       "      <td>MASCULINO</td>\n",
       "      <td>ADULTOS</td>\n",
       "      <td>1</td>\n",
       "    </tr>\n",
       "    <tr>\n",
       "      <th>1</th>\n",
       "      <td>CAQUETÁ</td>\n",
       "      <td>LA MONTAÑITA</td>\n",
       "      <td>18410000</td>\n",
       "      <td>LLAMADA TELEFONICA</td>\n",
       "      <td>01/01/2010</td>\n",
       "      <td>MASCULINO</td>\n",
       "      <td>ADULTOS</td>\n",
       "      <td>1</td>\n",
       "    </tr>\n",
       "    <tr>\n",
       "      <th>2</th>\n",
       "      <td>CAQUETÁ</td>\n",
       "      <td>FLORENCIA (CT)</td>\n",
       "      <td>18001000</td>\n",
       "      <td>MIXTA</td>\n",
       "      <td>01/01/2010</td>\n",
       "      <td>FEMENINO</td>\n",
       "      <td>ADULTOS</td>\n",
       "      <td>1</td>\n",
       "    </tr>\n",
       "    <tr>\n",
       "      <th>3</th>\n",
       "      <td>RISARALDA</td>\n",
       "      <td>DOSQUEBRADAS</td>\n",
       "      <td>66170000</td>\n",
       "      <td>MIXTA</td>\n",
       "      <td>02/01/2010</td>\n",
       "      <td>MASCULINO</td>\n",
       "      <td>ADULTOS</td>\n",
       "      <td>1</td>\n",
       "    </tr>\n",
       "    <tr>\n",
       "      <th>4</th>\n",
       "      <td>CASANARE</td>\n",
       "      <td>YOPAL (CT)</td>\n",
       "      <td>85001000</td>\n",
       "      <td>LLAMADA TELEFONICA</td>\n",
       "      <td>03/01/2010</td>\n",
       "      <td>FEMENINO</td>\n",
       "      <td>ADULTOS</td>\n",
       "      <td>1</td>\n",
       "    </tr>\n",
       "    <tr>\n",
       "      <th>5</th>\n",
       "      <td>ANTIOQUIA</td>\n",
       "      <td>MEDELLÍN (CT)</td>\n",
       "      <td>5001000</td>\n",
       "      <td>DIRECTA</td>\n",
       "      <td>04/01/2010</td>\n",
       "      <td>NO REPORTA</td>\n",
       "      <td>NO REPORTA</td>\n",
       "      <td>2</td>\n",
       "    </tr>\n",
       "    <tr>\n",
       "      <th>6</th>\n",
       "      <td>CUNDINAMARCA</td>\n",
       "      <td>LA MESA</td>\n",
       "      <td>25386000</td>\n",
       "      <td>LLAMADA TELEFONICA</td>\n",
       "      <td>04/01/2010</td>\n",
       "      <td>FEMENINO</td>\n",
       "      <td>ADULTOS</td>\n",
       "      <td>1</td>\n",
       "    </tr>\n",
       "    <tr>\n",
       "      <th>7</th>\n",
       "      <td>RISARALDA</td>\n",
       "      <td>PEREIRA (CT)</td>\n",
       "      <td>66001000</td>\n",
       "      <td>CARTA EXTORSIVA</td>\n",
       "      <td>04/01/2010</td>\n",
       "      <td>MASCULINO</td>\n",
       "      <td>ADULTOS</td>\n",
       "      <td>1</td>\n",
       "    </tr>\n",
       "    <tr>\n",
       "      <th>8</th>\n",
       "      <td>ANTIOQUIA</td>\n",
       "      <td>MEDELLÍN (CT)</td>\n",
       "      <td>5001000</td>\n",
       "      <td>LLAMADA TELEFONICA</td>\n",
       "      <td>05/01/2010</td>\n",
       "      <td>FEMENINO</td>\n",
       "      <td>ADULTOS</td>\n",
       "      <td>1</td>\n",
       "    </tr>\n",
       "    <tr>\n",
       "      <th>9</th>\n",
       "      <td>ANTIOQUIA</td>\n",
       "      <td>MEDELLÍN (CT)</td>\n",
       "      <td>5001000</td>\n",
       "      <td>DIRECTA</td>\n",
       "      <td>05/01/2010</td>\n",
       "      <td>FEMENINO</td>\n",
       "      <td>ADULTOS</td>\n",
       "      <td>1</td>\n",
       "    </tr>\n",
       "  </tbody>\n",
       "</table>\n",
       "</div>"
      ],
      "text/plain": [
       "   DEPARTAMENTO       MUNICIPIO  CODIGO DANE        ARMAS MEDIOS FECHA HECHO  \\\n",
       "0       BOLÍVAR  CARTAGENA (CT)     13001000        NO REPORTADO  01/01/2010   \n",
       "1       CAQUETÁ    LA MONTAÑITA     18410000  LLAMADA TELEFONICA  01/01/2010   \n",
       "2       CAQUETÁ  FLORENCIA (CT)     18001000               MIXTA  01/01/2010   \n",
       "3     RISARALDA    DOSQUEBRADAS     66170000               MIXTA  02/01/2010   \n",
       "4      CASANARE      YOPAL (CT)     85001000  LLAMADA TELEFONICA  03/01/2010   \n",
       "5     ANTIOQUIA   MEDELLÍN (CT)      5001000             DIRECTA  04/01/2010   \n",
       "6  CUNDINAMARCA         LA MESA     25386000  LLAMADA TELEFONICA  04/01/2010   \n",
       "7     RISARALDA    PEREIRA (CT)     66001000     CARTA EXTORSIVA  04/01/2010   \n",
       "8     ANTIOQUIA   MEDELLÍN (CT)      5001000  LLAMADA TELEFONICA  05/01/2010   \n",
       "9     ANTIOQUIA   MEDELLÍN (CT)      5001000             DIRECTA  05/01/2010   \n",
       "\n",
       "       GENERO GRUPO ETARIO  CANTIDAD  \n",
       "0   MASCULINO      ADULTOS         1  \n",
       "1   MASCULINO      ADULTOS         1  \n",
       "2    FEMENINO      ADULTOS         1  \n",
       "3   MASCULINO      ADULTOS         1  \n",
       "4    FEMENINO      ADULTOS         1  \n",
       "5  NO REPORTA   NO REPORTA         2  \n",
       "6    FEMENINO      ADULTOS         1  \n",
       "7   MASCULINO      ADULTOS         1  \n",
       "8    FEMENINO      ADULTOS         1  \n",
       "9    FEMENINO      ADULTOS         1  "
      ]
     },
     "execution_count": 5,
     "metadata": {},
     "output_type": "execute_result"
    }
   ],
   "source": [
    "# Imprimiendo los primeros 10 registros\n",
    "df_Terr.head(10)"
   ]
  },
  {
   "cell_type": "markdown",
   "metadata": {},
   "source": [
    "### Conversión de Object a datetime sobre la columna *FECHA HECHO*"
   ]
  },
  {
   "cell_type": "code",
   "execution_count": 6,
   "metadata": {},
   "outputs": [],
   "source": [
    "df_Terr['FECHA HECHO']= pd.to_datetime(df_Terr['FECHA HECHO'], errors='raise', dayfirst=True)"
   ]
  },
  {
   "cell_type": "code",
   "execution_count": 7,
   "metadata": {},
   "outputs": [
    {
     "data": {
      "text/plain": [
       "DEPARTAMENTO            object\n",
       "MUNICIPIO               object\n",
       "CODIGO DANE              int64\n",
       "ARMAS MEDIOS            object\n",
       "FECHA HECHO     datetime64[ns]\n",
       "GENERO                  object\n",
       "GRUPO ETARIO            object\n",
       "CANTIDAD                 int64\n",
       "dtype: object"
      ]
     },
     "execution_count": 7,
     "metadata": {},
     "output_type": "execute_result"
    }
   ],
   "source": [
    "# Verificando los tipos de datos de las columnas para verificar la conversión\n",
    "df_Terr.dtypes"
   ]
  },
  {
   "cell_type": "markdown",
   "metadata": {},
   "source": [
    "### Eliminación de registros duplicados"
   ]
  },
  {
   "cell_type": "code",
   "execution_count": 8,
   "metadata": {},
   "outputs": [],
   "source": [
    "df_Terr.drop_duplicates(keep=False,inplace=True)"
   ]
  },
  {
   "cell_type": "code",
   "execution_count": 9,
   "metadata": {},
   "outputs": [
    {
     "data": {
      "text/plain": [
       "(51850, 8)"
      ]
     },
     "execution_count": 9,
     "metadata": {},
     "output_type": "execute_result"
    }
   ],
   "source": [
    "df_Terr.shape"
   ]
  },
  {
   "cell_type": "markdown",
   "metadata": {},
   "source": [
    "### Top departamentos más afectados por el delito"
   ]
  },
  {
   "cell_type": "code",
   "execution_count": 10,
   "metadata": {},
   "outputs": [],
   "source": [
    "n_by_dep = df_Terr.groupby(\"DEPARTAMENTO\")[\"CANTIDAD\"].count()"
   ]
  },
  {
   "cell_type": "code",
   "execution_count": 11,
   "metadata": {},
   "outputs": [
    {
     "data": {
      "text/plain": [
       "DEPARTAMENTO\n",
       "ANTIOQUIA             7861\n",
       "CUNDINAMARCA          6006\n",
       "VALLE                 5511\n",
       "META                  3142\n",
       "CAUCA                 2555\n",
       "NORTE DE SANTANDER    2123\n",
       "TOLIMA                2006\n",
       "NARIÑO                1782\n",
       "HUILA                 1674\n",
       "BOLÍVAR               1635\n",
       "SANTANDER             1616\n",
       "ATLÁNTICO             1391\n",
       "MAGDALENA             1341\n",
       "CÓRDOBA               1340\n",
       "CASANARE              1330\n",
       "BOYACÁ                1307\n",
       "CESAR                 1270\n",
       "GUAJIRA               1076\n",
       "RISARALDA              985\n",
       "CHOCÓ                  947\n",
       "CAQUETÁ                928\n",
       "SUCRE                  896\n",
       "ARAUCA                 881\n",
       "CALDAS                 726\n",
       "PUTUMAYO               529\n",
       "QUINDÍO                488\n",
       "GUAVIARE               219\n",
       "SAN ANDRÉS             107\n",
       "VICHADA                 78\n",
       "GUAINÍA                 46\n",
       "AMAZONAS                45\n",
       "VAUPÉS                   9\n",
       "Name: CANTIDAD, dtype: int64"
      ]
     },
     "execution_count": 11,
     "metadata": {},
     "output_type": "execute_result"
    }
   ],
   "source": [
    "# Solución del primer punto, los 3 departamentos más afectados históricamente son Antioquia, Cundinamarca y Valle\n",
    "n_by_dep.sort_values(ascending = False)"
   ]
  },
  {
   "cell_type": "code",
   "execution_count": 12,
   "metadata": {},
   "outputs": [
    {
     "data": {
      "text/plain": [
       "DEPARTAMENTO\n",
       "ANTIOQUIA             100\n",
       "VALLE                  77\n",
       "CUNDINAMARCA           71\n",
       "CAUCA                  30\n",
       "BOYACÁ                 28\n",
       "META                   27\n",
       "HUILA                  23\n",
       "TOLIMA                 22\n",
       "MAGDALENA              19\n",
       "CESAR                  15\n",
       "NORTE DE SANTANDER     14\n",
       "SANTANDER              13\n",
       "NARIÑO                 13\n",
       "GUAJIRA                13\n",
       "BOLÍVAR                13\n",
       "ATLÁNTICO              13\n",
       "CÓRDOBA                12\n",
       "CASANARE                8\n",
       "CALDAS                  7\n",
       "SAN ANDRÉS              7\n",
       "SUCRE                   7\n",
       "CHOCÓ                   6\n",
       "RISARALDA               6\n",
       "ARAUCA                  6\n",
       "QUINDÍO                 5\n",
       "CAQUETÁ                 4\n",
       "PUTUMAYO                4\n",
       "AMAZONAS                1\n",
       "GUAVIARE                1\n",
       "VICHADA                 1\n",
       "Name: CANTIDAD, dtype: int64"
      ]
     },
     "execution_count": 12,
     "metadata": {},
     "output_type": "execute_result"
    }
   ],
   "source": [
    "# Filtro para encontrar los 3 departamentos más afectados en el último año, los cuales son son Antioquia, Valle y Cunidnamarca\n",
    "start_date = \"2021-1-1\"\n",
    "end_date = \"2021-1-31\"\n",
    "\n",
    "after_start_date = df_Terr[\"FECHA HECHO\"] >= start_date\n",
    "before_end_date = df_Terr[\"FECHA HECHO\"] <= end_date\n",
    "between_two_dates = after_start_date & before_end_date\n",
    "filtered_dates = df_Terr.loc[between_two_dates]\n",
    "\n",
    "n_by_dep_last_year = filtered_dates.groupby(\"DEPARTAMENTO\")[\"CANTIDAD\"].count()\n",
    "n_by_dep_last_year.sort_values(ascending = False)\n"
   ]
  },
  {
   "cell_type": "markdown",
   "metadata": {},
   "source": [
    "### Top armas/medios más utilizados para el delito"
   ]
  },
  {
   "cell_type": "code",
   "execution_count": 13,
   "metadata": {},
   "outputs": [],
   "source": [
    "n_by_dep = df_Terr.groupby(\"ARMAS MEDIOS\")[\"CANTIDAD\"].count()"
   ]
  },
  {
   "cell_type": "code",
   "execution_count": 14,
   "metadata": {},
   "outputs": [
    {
     "data": {
      "text/plain": [
       "ARMAS MEDIOS\n",
       "LLAMADA TELEFONICA     27472\n",
       "DIRECTA                12268\n",
       "MIXTA                   3664\n",
       "REDES SOCIALES          3375\n",
       "SIN EMPLEO DE ARMAS     2896\n",
       "CARTA EXTORSIVA         1879\n",
       "NO REPORTADO             194\n",
       "-                         99\n",
       "TERRORISMO                 2\n",
       "CONTUNDENTES               1\n",
       "Name: CANTIDAD, dtype: int64"
      ]
     },
     "execution_count": 14,
     "metadata": {},
     "output_type": "execute_result"
    }
   ],
   "source": [
    "# Solución del segundo punto, el medio más utilizado históricamente es la llamada telefónica.\n",
    "n_by_dep.sort_values(ascending = False)"
   ]
  },
  {
   "cell_type": "markdown",
   "metadata": {},
   "source": [
    "### Tendencia a cometer delito según el mes"
   ]
  },
  {
   "cell_type": "code",
   "execution_count": 17,
   "metadata": {},
   "outputs": [],
   "source": [
    "# Solución del cuarto punto, se evidencia una tendencia de aumento en el delito para el mes de Enero.\n",
    "n_by_month = df_Terr.groupby(pd.Grouper(key='FECHA HECHO', axis=0, \n",
    "                      freq='M')).sum()"
   ]
  },
  {
   "cell_type": "code",
   "execution_count": 16,
   "metadata": {},
   "outputs": [
    {
     "data": {
      "text/html": [
       "<div>\n",
       "<style scoped>\n",
       "    .dataframe tbody tr th:only-of-type {\n",
       "        vertical-align: middle;\n",
       "    }\n",
       "\n",
       "    .dataframe tbody tr th {\n",
       "        vertical-align: top;\n",
       "    }\n",
       "\n",
       "    .dataframe thead th {\n",
       "        text-align: right;\n",
       "    }\n",
       "</style>\n",
       "<table border=\"1\" class=\"dataframe\">\n",
       "  <thead>\n",
       "    <tr style=\"text-align: right;\">\n",
       "      <th></th>\n",
       "      <th>CODIGO DANE</th>\n",
       "      <th>CANTIDAD</th>\n",
       "    </tr>\n",
       "    <tr>\n",
       "      <th>FECHA HECHO</th>\n",
       "      <th></th>\n",
       "      <th></th>\n",
       "    </tr>\n",
       "  </thead>\n",
       "  <tbody>\n",
       "    <tr>\n",
       "      <th>2010-01-31</th>\n",
       "      <td>4640223000</td>\n",
       "      <td>132</td>\n",
       "    </tr>\n",
       "    <tr>\n",
       "      <th>2010-02-28</th>\n",
       "      <td>5124878000</td>\n",
       "      <td>132</td>\n",
       "    </tr>\n",
       "    <tr>\n",
       "      <th>2010-03-31</th>\n",
       "      <td>4304516000</td>\n",
       "      <td>116</td>\n",
       "    </tr>\n",
       "    <tr>\n",
       "      <th>2010-04-30</th>\n",
       "      <td>5482003000</td>\n",
       "      <td>140</td>\n",
       "    </tr>\n",
       "    <tr>\n",
       "      <th>2010-05-31</th>\n",
       "      <td>3433354000</td>\n",
       "      <td>106</td>\n",
       "    </tr>\n",
       "    <tr>\n",
       "      <th>...</th>\n",
       "      <td>...</td>\n",
       "      <td>...</td>\n",
       "    </tr>\n",
       "    <tr>\n",
       "      <th>2021-03-31</th>\n",
       "      <td>19048106000</td>\n",
       "      <td>532</td>\n",
       "    </tr>\n",
       "    <tr>\n",
       "      <th>2021-04-30</th>\n",
       "      <td>18907541000</td>\n",
       "      <td>501</td>\n",
       "    </tr>\n",
       "    <tr>\n",
       "      <th>2021-05-31</th>\n",
       "      <td>20712842000</td>\n",
       "      <td>528</td>\n",
       "    </tr>\n",
       "    <tr>\n",
       "      <th>2021-06-30</th>\n",
       "      <td>16146125000</td>\n",
       "      <td>423</td>\n",
       "    </tr>\n",
       "    <tr>\n",
       "      <th>2021-07-31</th>\n",
       "      <td>5504264000</td>\n",
       "      <td>128</td>\n",
       "    </tr>\n",
       "  </tbody>\n",
       "</table>\n",
       "<p>139 rows × 2 columns</p>\n",
       "</div>"
      ],
      "text/plain": [
       "             CODIGO DANE  CANTIDAD\n",
       "FECHA HECHO                       \n",
       "2010-01-31    4640223000       132\n",
       "2010-02-28    5124878000       132\n",
       "2010-03-31    4304516000       116\n",
       "2010-04-30    5482003000       140\n",
       "2010-05-31    3433354000       106\n",
       "...                  ...       ...\n",
       "2021-03-31   19048106000       532\n",
       "2021-04-30   18907541000       501\n",
       "2021-05-31   20712842000       528\n",
       "2021-06-30   16146125000       423\n",
       "2021-07-31    5504264000       128\n",
       "\n",
       "[139 rows x 2 columns]"
      ]
     },
     "execution_count": 16,
     "metadata": {},
     "output_type": "execute_result"
    }
   ],
   "source": [
    "n_by_month"
   ]
  },
  {
   "cell_type": "code",
   "execution_count": null,
   "metadata": {},
   "outputs": [],
   "source": []
  }
 ],
 "metadata": {
  "kernelspec": {
   "display_name": "Python 3",
   "language": "python",
   "name": "python3"
  },
  "language_info": {
   "codemirror_mode": {
    "name": "ipython",
    "version": 3
   },
   "file_extension": ".py",
   "mimetype": "text/x-python",
   "name": "python",
   "nbconvert_exporter": "python",
   "pygments_lexer": "ipython3",
   "version": "3.8.8"
  }
 },
 "nbformat": 4,
 "nbformat_minor": 4
}
