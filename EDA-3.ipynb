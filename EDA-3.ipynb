{
 "cells": [
  {
   "cell_type": "markdown",
   "metadata": {},
   "source": [
    "# EDA-2\n",
    "## Dataset: Reporte Delito Homicidio y Homicidio accidente de tránsito"
   ]
  },
  {
   "cell_type": "code",
   "execution_count": 1,
   "metadata": {},
   "outputs": [],
   "source": [
    "# Importando todas las librerías requeridas para el análisis\n",
    "\n",
    "import numpy as np\n",
    "import pandas as pd\n",
    "\n",
    "import matplotlib.pyplot as plt\n",
    "%matplotlib inline\n",
    "\n",
    "import scipy.stats"
   ]
  },
  {
   "cell_type": "code",
   "execution_count": 2,
   "metadata": {},
   "outputs": [],
   "source": [
    "# Cargando el archivo commo dataframe\n",
    "df_Terr = pd.read_csv(\"./data/Reporte_Homicidios_y_Homicidios_accidente_de_tr_nsito_Polic_a_Nacional.csv\")"
   ]
  },
  {
   "cell_type": "code",
   "execution_count": 3,
   "metadata": {},
   "outputs": [
    {
     "data": {
      "text/plain": [
       "(213863, 9)"
      ]
     },
     "execution_count": 3,
     "metadata": {},
     "output_type": "execute_result"
    }
   ],
   "source": [
    "# Mostrando las dimensiones del dataframe\n",
    "df_Terr.shape"
   ]
  },
  {
   "cell_type": "code",
   "execution_count": 4,
   "metadata": {},
   "outputs": [
    {
     "data": {
      "text/plain": [
       "DEPARTAMENTO            object\n",
       "MUNICIPIO               object\n",
       "CODIGO DANE              int64\n",
       "ARMAS MEDIOS            object\n",
       "FECHA HECHO             object\n",
       "GENERO                  object\n",
       "GRUPO ETARÍO            object\n",
       "DESCRIPCIÓN CONDUCTA    object\n",
       "CANTIDAD                 int64\n",
       "dtype: object"
      ]
     },
     "execution_count": 4,
     "metadata": {},
     "output_type": "execute_result"
    }
   ],
   "source": [
    "# Verificando los tipos de datos de las columnas\n",
    "# Debido a la naturaleza de los datos, el punto 5 no aplica.\n",
    "df_Terr.dtypes"
   ]
  },
  {
   "cell_type": "code",
   "execution_count": 5,
   "metadata": {},
   "outputs": [
    {
     "data": {
      "text/html": [
       "<div>\n",
       "<style scoped>\n",
       "    .dataframe tbody tr th:only-of-type {\n",
       "        vertical-align: middle;\n",
       "    }\n",
       "\n",
       "    .dataframe tbody tr th {\n",
       "        vertical-align: top;\n",
       "    }\n",
       "\n",
       "    .dataframe thead th {\n",
       "        text-align: right;\n",
       "    }\n",
       "</style>\n",
       "<table border=\"1\" class=\"dataframe\">\n",
       "  <thead>\n",
       "    <tr style=\"text-align: right;\">\n",
       "      <th></th>\n",
       "      <th>DEPARTAMENTO</th>\n",
       "      <th>MUNICIPIO</th>\n",
       "      <th>CODIGO DANE</th>\n",
       "      <th>ARMAS MEDIOS</th>\n",
       "      <th>FECHA HECHO</th>\n",
       "      <th>GENERO</th>\n",
       "      <th>GRUPO ETARÍO</th>\n",
       "      <th>DESCRIPCIÓN CONDUCTA</th>\n",
       "      <th>CANTIDAD</th>\n",
       "    </tr>\n",
       "  </thead>\n",
       "  <tbody>\n",
       "    <tr>\n",
       "      <th>0</th>\n",
       "      <td>ANTIOQUIA</td>\n",
       "      <td>COPACABANA</td>\n",
       "      <td>5212000</td>\n",
       "      <td>ARMA DE FUEGO</td>\n",
       "      <td>1/01/2010</td>\n",
       "      <td>MASCULINO</td>\n",
       "      <td>ADULTOS</td>\n",
       "      <td>HOMICIDIO</td>\n",
       "      <td>1</td>\n",
       "    </tr>\n",
       "    <tr>\n",
       "      <th>1</th>\n",
       "      <td>ANTIOQUIA</td>\n",
       "      <td>MEDELLÍN (CT)</td>\n",
       "      <td>5001000</td>\n",
       "      <td>ARMA DE FUEGO</td>\n",
       "      <td>1/01/2010</td>\n",
       "      <td>MASCULINO</td>\n",
       "      <td>ADULTOS</td>\n",
       "      <td>HOMICIDIO</td>\n",
       "      <td>2</td>\n",
       "    </tr>\n",
       "    <tr>\n",
       "      <th>2</th>\n",
       "      <td>ANTIOQUIA</td>\n",
       "      <td>MEDELLÍN (CT)</td>\n",
       "      <td>5001000</td>\n",
       "      <td>ARMA DE FUEGO</td>\n",
       "      <td>1/01/2010</td>\n",
       "      <td>MASCULINO</td>\n",
       "      <td>ADULTOS</td>\n",
       "      <td>HOMICIDIO</td>\n",
       "      <td>1</td>\n",
       "    </tr>\n",
       "    <tr>\n",
       "      <th>3</th>\n",
       "      <td>ANTIOQUIA</td>\n",
       "      <td>MEDELLÍN (CT)</td>\n",
       "      <td>5001000</td>\n",
       "      <td>ARMA DE FUEGO</td>\n",
       "      <td>1/01/2010</td>\n",
       "      <td>MASCULINO</td>\n",
       "      <td>ADULTOS</td>\n",
       "      <td>HOMICIDIO</td>\n",
       "      <td>1</td>\n",
       "    </tr>\n",
       "    <tr>\n",
       "      <th>4</th>\n",
       "      <td>ANTIOQUIA</td>\n",
       "      <td>MEDELLÍN (CT)</td>\n",
       "      <td>5001000</td>\n",
       "      <td>ARMA DE FUEGO</td>\n",
       "      <td>1/01/2010</td>\n",
       "      <td>MASCULINO</td>\n",
       "      <td>ADULTOS</td>\n",
       "      <td>HOMICIDIO</td>\n",
       "      <td>1</td>\n",
       "    </tr>\n",
       "    <tr>\n",
       "      <th>5</th>\n",
       "      <td>ANTIOQUIA</td>\n",
       "      <td>TURBO</td>\n",
       "      <td>5837000</td>\n",
       "      <td>VEHICULO</td>\n",
       "      <td>1/01/2010</td>\n",
       "      <td>MASCULINO</td>\n",
       "      <td>ADULTOS</td>\n",
       "      <td>HOMICIDIO CULPOSO ( EN ACCIDENTE DE TRÁNSITO)</td>\n",
       "      <td>1</td>\n",
       "    </tr>\n",
       "    <tr>\n",
       "      <th>6</th>\n",
       "      <td>ANTIOQUIA</td>\n",
       "      <td>AMAGÁ</td>\n",
       "      <td>5030000</td>\n",
       "      <td>ARMA BLANCA / CORTOPUNZANTE</td>\n",
       "      <td>1/01/2010</td>\n",
       "      <td>MASCULINO</td>\n",
       "      <td>ADULTOS</td>\n",
       "      <td>HOMICIDIO</td>\n",
       "      <td>1</td>\n",
       "    </tr>\n",
       "    <tr>\n",
       "      <th>7</th>\n",
       "      <td>ANTIOQUIA</td>\n",
       "      <td>MEDELLÍN (CT)</td>\n",
       "      <td>5001000</td>\n",
       "      <td>ARMA BLANCA / CORTOPUNZANTE</td>\n",
       "      <td>1/01/2010</td>\n",
       "      <td>MASCULINO</td>\n",
       "      <td>ADULTOS</td>\n",
       "      <td>HOMICIDIO</td>\n",
       "      <td>1</td>\n",
       "    </tr>\n",
       "    <tr>\n",
       "      <th>8</th>\n",
       "      <td>ANTIOQUIA</td>\n",
       "      <td>RIONEGRO</td>\n",
       "      <td>5615000</td>\n",
       "      <td>ARMA BLANCA / CORTOPUNZANTE</td>\n",
       "      <td>1/01/2010</td>\n",
       "      <td>MASCULINO</td>\n",
       "      <td>ADULTOS</td>\n",
       "      <td>HOMICIDIO</td>\n",
       "      <td>1</td>\n",
       "    </tr>\n",
       "    <tr>\n",
       "      <th>9</th>\n",
       "      <td>ANTIOQUIA</td>\n",
       "      <td>LA CEJA</td>\n",
       "      <td>5376000</td>\n",
       "      <td>MOTO</td>\n",
       "      <td>1/01/2010</td>\n",
       "      <td>MASCULINO</td>\n",
       "      <td>ADULTOS</td>\n",
       "      <td>HOMICIDIO CULPOSO ( EN ACCIDENTE DE TRÁNSITO)</td>\n",
       "      <td>1</td>\n",
       "    </tr>\n",
       "  </tbody>\n",
       "</table>\n",
       "</div>"
      ],
      "text/plain": [
       "  DEPARTAMENTO      MUNICIPIO  CODIGO DANE                 ARMAS MEDIOS  \\\n",
       "0    ANTIOQUIA     COPACABANA      5212000                ARMA DE FUEGO   \n",
       "1    ANTIOQUIA  MEDELLÍN (CT)      5001000                ARMA DE FUEGO   \n",
       "2    ANTIOQUIA  MEDELLÍN (CT)      5001000                ARMA DE FUEGO   \n",
       "3    ANTIOQUIA  MEDELLÍN (CT)      5001000                ARMA DE FUEGO   \n",
       "4    ANTIOQUIA  MEDELLÍN (CT)      5001000                ARMA DE FUEGO   \n",
       "5    ANTIOQUIA          TURBO      5837000                     VEHICULO   \n",
       "6    ANTIOQUIA          AMAGÁ      5030000  ARMA BLANCA / CORTOPUNZANTE   \n",
       "7    ANTIOQUIA  MEDELLÍN (CT)      5001000  ARMA BLANCA / CORTOPUNZANTE   \n",
       "8    ANTIOQUIA       RIONEGRO      5615000  ARMA BLANCA / CORTOPUNZANTE   \n",
       "9    ANTIOQUIA        LA CEJA      5376000                         MOTO   \n",
       "\n",
       "  FECHA HECHO     GENERO GRUPO ETARÍO  \\\n",
       "0   1/01/2010  MASCULINO      ADULTOS   \n",
       "1   1/01/2010  MASCULINO      ADULTOS   \n",
       "2   1/01/2010  MASCULINO      ADULTOS   \n",
       "3   1/01/2010  MASCULINO      ADULTOS   \n",
       "4   1/01/2010  MASCULINO      ADULTOS   \n",
       "5   1/01/2010  MASCULINO      ADULTOS   \n",
       "6   1/01/2010  MASCULINO      ADULTOS   \n",
       "7   1/01/2010  MASCULINO      ADULTOS   \n",
       "8   1/01/2010  MASCULINO      ADULTOS   \n",
       "9   1/01/2010  MASCULINO      ADULTOS   \n",
       "\n",
       "                            DESCRIPCIÓN CONDUCTA  CANTIDAD  \n",
       "0                                      HOMICIDIO         1  \n",
       "1                                      HOMICIDIO         2  \n",
       "2                                      HOMICIDIO         1  \n",
       "3                                      HOMICIDIO         1  \n",
       "4                                      HOMICIDIO         1  \n",
       "5  HOMICIDIO CULPOSO ( EN ACCIDENTE DE TRÁNSITO)         1  \n",
       "6                                      HOMICIDIO         1  \n",
       "7                                      HOMICIDIO         1  \n",
       "8                                      HOMICIDIO         1  \n",
       "9  HOMICIDIO CULPOSO ( EN ACCIDENTE DE TRÁNSITO)         1  "
      ]
     },
     "execution_count": 5,
     "metadata": {},
     "output_type": "execute_result"
    }
   ],
   "source": [
    "# Imprimiendo los primeros 10 registros\n",
    "df_Terr.head(10)"
   ]
  },
  {
   "cell_type": "markdown",
   "metadata": {},
   "source": [
    "### Conversión de Object a datetime sobre la columna *FECHA HECHO*"
   ]
  },
  {
   "cell_type": "code",
   "execution_count": 6,
   "metadata": {},
   "outputs": [],
   "source": [
    "df_Terr['FECHA HECHO']= pd.to_datetime(df_Terr['FECHA HECHO'], errors='raise', dayfirst=True)"
   ]
  },
  {
   "cell_type": "code",
   "execution_count": 7,
   "metadata": {},
   "outputs": [
    {
     "data": {
      "text/plain": [
       "DEPARTAMENTO                    object\n",
       "MUNICIPIO                       object\n",
       "CODIGO DANE                      int64\n",
       "ARMAS MEDIOS                    object\n",
       "FECHA HECHO             datetime64[ns]\n",
       "GENERO                          object\n",
       "GRUPO ETARÍO                    object\n",
       "DESCRIPCIÓN CONDUCTA            object\n",
       "CANTIDAD                         int64\n",
       "dtype: object"
      ]
     },
     "execution_count": 7,
     "metadata": {},
     "output_type": "execute_result"
    }
   ],
   "source": [
    "# Verificando los tipos de datos de las columnas para verificar la conversión\n",
    "df_Terr.dtypes"
   ]
  },
  {
   "cell_type": "markdown",
   "metadata": {},
   "source": [
    "### Eliminación de registros duplicados"
   ]
  },
  {
   "cell_type": "code",
   "execution_count": 8,
   "metadata": {},
   "outputs": [],
   "source": [
    "df_Terr.drop_duplicates(keep=False,inplace=True)"
   ]
  },
  {
   "cell_type": "code",
   "execution_count": 9,
   "metadata": {},
   "outputs": [
    {
     "data": {
      "text/plain": [
       "(161404, 9)"
      ]
     },
     "execution_count": 9,
     "metadata": {},
     "output_type": "execute_result"
    }
   ],
   "source": [
    "df_Terr.shape"
   ]
  },
  {
   "cell_type": "markdown",
   "metadata": {},
   "source": [
    "### Top departamentos más afectados por el delito"
   ]
  },
  {
   "cell_type": "code",
   "execution_count": 10,
   "metadata": {},
   "outputs": [],
   "source": [
    "n_by_dep = df_Terr.groupby(\"DEPARTAMENTO\")[\"CANTIDAD\"].count()"
   ]
  },
  {
   "cell_type": "code",
   "execution_count": 11,
   "metadata": {},
   "outputs": [
    {
     "data": {
      "text/plain": [
       "DEPARTAMENTO\n",
       "ANTIOQUIA             25768\n",
       "VALLE                 23836\n",
       "CUNDINAMARCA          16666\n",
       "CAUCA                  7750\n",
       "NARIÑO                 6539\n",
       "ATLÁNTICO              6190\n",
       "NORTE DE SANTANDER     5912\n",
       "SANTANDER              5794\n",
       "CÓRDOBA                5564\n",
       "TOLIMA                 5278\n",
       "BOLÍVAR                5171\n",
       "META                   4472\n",
       "HUILA                  4433\n",
       "CESAR                  4369\n",
       "RISARALDA              4301\n",
       "MAGDALENA              3962\n",
       "CALDAS                 3609\n",
       "QUINDÍO                3163\n",
       "GUAJIRA                2932\n",
       "BOYACÁ                 2703\n",
       "CAQUETÁ                2316\n",
       "SUCRE                  2276\n",
       "CHOCÓ                  2108\n",
       "PUTUMAYO               1890\n",
       "CASANARE               1681\n",
       "ARAUCA                 1557\n",
       "GUAVIARE                407\n",
       "SAN ANDRÉS              347\n",
       "VICHADA                 225\n",
       "AMAZONAS                123\n",
       "GUAINÍA                  33\n",
       "VAUPÉS                   29\n",
       "Name: CANTIDAD, dtype: int64"
      ]
     },
     "execution_count": 11,
     "metadata": {},
     "output_type": "execute_result"
    }
   ],
   "source": [
    "# Solución del primer punto, los 3 departamentos más afectados históricamente son Antioquia, Valle y Cundinamaraca\n",
    "n_by_dep.sort_values(ascending = False)"
   ]
  },
  {
   "cell_type": "code",
   "execution_count": 12,
   "metadata": {},
   "outputs": [
    {
     "data": {
      "text/plain": [
       "DEPARTAMENTO\n",
       "ANTIOQUIA             221\n",
       "VALLE                 161\n",
       "CUNDINAMARCA          123\n",
       "CAUCA                  73\n",
       "BOLÍVAR                69\n",
       "CÓRDOBA                57\n",
       "NARIÑO                 52\n",
       "ATLÁNTICO              48\n",
       "NORTE DE SANTANDER     44\n",
       "TOLIMA                 42\n",
       "SANTANDER              37\n",
       "CESAR                  37\n",
       "META                   36\n",
       "MAGDALENA              35\n",
       "SUCRE                  29\n",
       "GUAJIRA                29\n",
       "HUILA                  28\n",
       "RISARALDA              27\n",
       "CASANARE               23\n",
       "CALDAS                 23\n",
       "PUTUMAYO               22\n",
       "BOYACÁ                 21\n",
       "CHOCÓ                  20\n",
       "QUINDÍO                18\n",
       "CAQUETÁ                17\n",
       "ARAUCA                 14\n",
       "SAN ANDRÉS              4\n",
       "GUAVIARE                3\n",
       "AMAZONAS                2\n",
       "VICHADA                 1\n",
       "Name: CANTIDAD, dtype: int64"
      ]
     },
     "execution_count": 12,
     "metadata": {},
     "output_type": "execute_result"
    }
   ],
   "source": [
    "# Filtro para encontrar los 3 departamentos más afectados en el último año, los cuales son son Antioquia, Valle y Cunidnamarca\n",
    "start_date = \"2021-1-1\"\n",
    "end_date = \"2021-1-31\"\n",
    "\n",
    "after_start_date = df_Terr[\"FECHA HECHO\"] >= start_date\n",
    "before_end_date = df_Terr[\"FECHA HECHO\"] <= end_date\n",
    "between_two_dates = after_start_date & before_end_date\n",
    "filtered_dates = df_Terr.loc[between_two_dates]\n",
    "\n",
    "n_by_dep_last_year = filtered_dates.groupby(\"DEPARTAMENTO\")[\"CANTIDAD\"].count()\n",
    "n_by_dep_last_year.sort_values(ascending = False)\n"
   ]
  },
  {
   "cell_type": "markdown",
   "metadata": {},
   "source": [
    "### Top armas/medios más utilizados para el delito"
   ]
  },
  {
   "cell_type": "code",
   "execution_count": 13,
   "metadata": {},
   "outputs": [],
   "source": [
    "n_by_dep = df_Terr.groupby(\"ARMAS MEDIOS\")[\"CANTIDAD\"].count()"
   ]
  },
  {
   "cell_type": "code",
   "execution_count": 15,
   "metadata": {},
   "outputs": [
    {
     "data": {
      "text/plain": [
       "ARMAS MEDIOS\n",
       "ARMA DE FUEGO                         78634\n",
       "VEHICULO                              29787\n",
       "ARMA BLANCA / CORTOPUNZANTE           25045\n",
       "MOTO                                  16066\n",
       "CONTUNDENTES                           4996\n",
       "-                                      2200\n",
       "SIN EMPLEO DE ARMAS                    1378\n",
       "NO REPORTADO                            960\n",
       "BICICLETA                               511\n",
       "CUERDA/SOGA/CADENA                      401\n",
       "ARTEFACTO EXPLOSIVO/CARGA DINAMITA      290\n",
       "MINA ANTIPERSONA                        250\n",
       "BOLSA PLASTICA                          151\n",
       "PUNZANTES                               151\n",
       "CORTANTES                               108\n",
       "GRANADA DE MANO                         105\n",
       "COMBUSTIBLE                              70\n",
       "TREN                                     65\n",
       "CINTAS/CINTURON                          54\n",
       "ALMOHADA                                 42\n",
       "VENENO                                   20\n",
       "SUSTANCIAS TOXICAS                       19\n",
       "CILINDRO BOMBA                           19\n",
       "ARTEFACTO INCENDIARIO                    17\n",
       "CARRO BOMBA                              12\n",
       "QUIMICOS                                  7\n",
       "ACIDO                                     6\n",
       "PRENDAS DE VESTIR                         6\n",
       "MOTO BOMBA                                5\n",
       "ESCOPOLAMINA                              5\n",
       "PAQUETE BOMBA                             5\n",
       "CASA BOMBA                                4\n",
       "GRANADA DE MORTERO                        3\n",
       "ROCKET                                    3\n",
       "JERINGA                                   2\n",
       "GASES                                     2\n",
       "LIQUIDOS                                  1\n",
       "PERSONA BOMBA                             1\n",
       "OLLA BOMBA                                1\n",
       "MEDICAMENTOS                              1\n",
       "POLVORA(FUEGOS PIROTECNICOS)              1\n",
       "Name: CANTIDAD, dtype: int64"
      ]
     },
     "execution_count": 15,
     "metadata": {},
     "output_type": "execute_result"
    }
   ],
   "source": [
    "# Solución del segundo punto, el arma más utilizada históricamente es el arma de fuego.\n",
    "n_by_dep.sort_values(ascending = False)"
   ]
  },
  {
   "cell_type": "markdown",
   "metadata": {},
   "source": [
    "### Tendencia a cometer delito según el mes"
   ]
  },
  {
   "cell_type": "code",
   "execution_count": 16,
   "metadata": {},
   "outputs": [],
   "source": [
    "# Solución del cuarto punto, no se evidencia una tendencia específica.\n",
    "n_by_month = df_Terr.groupby(pd.Grouper(key='FECHA HECHO', axis=0, \n",
    "                      freq='M')).sum()"
   ]
  },
  {
   "cell_type": "code",
   "execution_count": 17,
   "metadata": {},
   "outputs": [
    {
     "data": {
      "text/html": [
       "<div>\n",
       "<style scoped>\n",
       "    .dataframe tbody tr th:only-of-type {\n",
       "        vertical-align: middle;\n",
       "    }\n",
       "\n",
       "    .dataframe tbody tr th {\n",
       "        vertical-align: top;\n",
       "    }\n",
       "\n",
       "    .dataframe thead th {\n",
       "        text-align: right;\n",
       "    }\n",
       "</style>\n",
       "<table border=\"1\" class=\"dataframe\">\n",
       "  <thead>\n",
       "    <tr style=\"text-align: right;\">\n",
       "      <th></th>\n",
       "      <th>CODIGO DANE</th>\n",
       "      <th>CANTIDAD</th>\n",
       "    </tr>\n",
       "    <tr>\n",
       "      <th>FECHA HECHO</th>\n",
       "      <th></th>\n",
       "      <th></th>\n",
       "    </tr>\n",
       "  </thead>\n",
       "  <tbody>\n",
       "    <tr>\n",
       "      <th>2010-01-31</th>\n",
       "      <td>47960697000</td>\n",
       "      <td>1191</td>\n",
       "    </tr>\n",
       "    <tr>\n",
       "      <th>2010-02-28</th>\n",
       "      <td>43516867000</td>\n",
       "      <td>1036</td>\n",
       "    </tr>\n",
       "    <tr>\n",
       "      <th>2010-03-31</th>\n",
       "      <td>43644810000</td>\n",
       "      <td>1109</td>\n",
       "    </tr>\n",
       "    <tr>\n",
       "      <th>2010-04-30</th>\n",
       "      <td>40843087000</td>\n",
       "      <td>1046</td>\n",
       "    </tr>\n",
       "    <tr>\n",
       "      <th>2010-05-31</th>\n",
       "      <td>47311283000</td>\n",
       "      <td>1196</td>\n",
       "    </tr>\n",
       "    <tr>\n",
       "      <th>...</th>\n",
       "      <td>...</td>\n",
       "      <td>...</td>\n",
       "    </tr>\n",
       "    <tr>\n",
       "      <th>2021-03-31</th>\n",
       "      <td>46805080000</td>\n",
       "      <td>1236</td>\n",
       "    </tr>\n",
       "    <tr>\n",
       "      <th>2021-04-30</th>\n",
       "      <td>45407360000</td>\n",
       "      <td>1259</td>\n",
       "    </tr>\n",
       "    <tr>\n",
       "      <th>2021-05-31</th>\n",
       "      <td>49727688000</td>\n",
       "      <td>1369</td>\n",
       "    </tr>\n",
       "    <tr>\n",
       "      <th>2021-06-30</th>\n",
       "      <td>48888411000</td>\n",
       "      <td>1326</td>\n",
       "    </tr>\n",
       "    <tr>\n",
       "      <th>2021-07-31</th>\n",
       "      <td>46118113000</td>\n",
       "      <td>1229</td>\n",
       "    </tr>\n",
       "  </tbody>\n",
       "</table>\n",
       "<p>139 rows × 2 columns</p>\n",
       "</div>"
      ],
      "text/plain": [
       "             CODIGO DANE  CANTIDAD\n",
       "FECHA HECHO                       \n",
       "2010-01-31   47960697000      1191\n",
       "2010-02-28   43516867000      1036\n",
       "2010-03-31   43644810000      1109\n",
       "2010-04-30   40843087000      1046\n",
       "2010-05-31   47311283000      1196\n",
       "...                  ...       ...\n",
       "2021-03-31   46805080000      1236\n",
       "2021-04-30   45407360000      1259\n",
       "2021-05-31   49727688000      1369\n",
       "2021-06-30   48888411000      1326\n",
       "2021-07-31   46118113000      1229\n",
       "\n",
       "[139 rows x 2 columns]"
      ]
     },
     "execution_count": 17,
     "metadata": {},
     "output_type": "execute_result"
    }
   ],
   "source": [
    "n_by_month"
   ]
  },
  {
   "cell_type": "code",
   "execution_count": null,
   "metadata": {},
   "outputs": [],
   "source": []
  }
 ],
 "metadata": {
  "kernelspec": {
   "display_name": "Python 3",
   "language": "python",
   "name": "python3"
  },
  "language_info": {
   "codemirror_mode": {
    "name": "ipython",
    "version": 3
   },
   "file_extension": ".py",
   "mimetype": "text/x-python",
   "name": "python",
   "nbconvert_exporter": "python",
   "pygments_lexer": "ipython3",
   "version": "3.8.8"
  }
 },
 "nbformat": 4,
 "nbformat_minor": 4
}
