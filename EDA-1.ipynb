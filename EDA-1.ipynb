{
 "cells": [
  {
   "cell_type": "markdown",
   "metadata": {},
   "source": [
    "# Análisis Exploratorio de Datos\n",
    "## Dataset: FIFA"
   ]
  },
  {
   "cell_type": "code",
   "execution_count": 1,
   "metadata": {},
   "outputs": [],
   "source": [
    "# Importando todas las librerías requeridas para el análisis\n",
    "\n",
    "import numpy as np\n",
    "import pandas as pd\n",
    "\n",
    "import matplotlib.pyplot as plt\n",
    "%matplotlib inline\n",
    "\n",
    "import scipy.stats"
   ]
  },
  {
   "cell_type": "code",
   "execution_count": 2,
   "metadata": {},
   "outputs": [],
   "source": [
    "# Cargando el archivo commo dataframe\n",
    "df_fifa = pd.read_csv(\"./data/fifa_AE.csv\")"
   ]
  },
  {
   "cell_type": "code",
   "execution_count": 3,
   "metadata": {},
   "outputs": [
    {
     "data": {
      "text/plain": [
       "(17981, 7)"
      ]
     },
     "execution_count": 3,
     "metadata": {},
     "output_type": "execute_result"
    }
   ],
   "source": [
    "# Mostrando las dimensiones del dataframe\n",
    "df_fifa.shape"
   ]
  },
  {
   "cell_type": "code",
   "execution_count": 4,
   "metadata": {},
   "outputs": [
    {
     "data": {
      "text/plain": [
       "Name                   object\n",
       "Age                     int64\n",
       "Nationality            object\n",
       "Overall                 int64\n",
       "Club                   object\n",
       "Value                  object\n",
       "Preferred Positions    object\n",
       "dtype: object"
      ]
     },
     "execution_count": 4,
     "metadata": {},
     "output_type": "execute_result"
    }
   ],
   "source": [
    "# Verificando los tipos de datos de las columnas\n",
    "df_fifa.dtypes"
   ]
  },
  {
   "cell_type": "code",
   "execution_count": 5,
   "metadata": {},
   "outputs": [
    {
     "data": {
      "text/html": [
       "<div>\n",
       "<style scoped>\n",
       "    .dataframe tbody tr th:only-of-type {\n",
       "        vertical-align: middle;\n",
       "    }\n",
       "\n",
       "    .dataframe tbody tr th {\n",
       "        vertical-align: top;\n",
       "    }\n",
       "\n",
       "    .dataframe thead th {\n",
       "        text-align: right;\n",
       "    }\n",
       "</style>\n",
       "<table border=\"1\" class=\"dataframe\">\n",
       "  <thead>\n",
       "    <tr style=\"text-align: right;\">\n",
       "      <th></th>\n",
       "      <th>Name</th>\n",
       "      <th>Age</th>\n",
       "      <th>Nationality</th>\n",
       "      <th>Overall</th>\n",
       "      <th>Club</th>\n",
       "      <th>Value</th>\n",
       "      <th>Preferred Positions</th>\n",
       "    </tr>\n",
       "  </thead>\n",
       "  <tbody>\n",
       "    <tr>\n",
       "      <th>0</th>\n",
       "      <td>Cristiano Ronaldo</td>\n",
       "      <td>32</td>\n",
       "      <td>Portugal</td>\n",
       "      <td>94</td>\n",
       "      <td>Real Madrid CF</td>\n",
       "      <td>€95.5M</td>\n",
       "      <td>ST</td>\n",
       "    </tr>\n",
       "    <tr>\n",
       "      <th>1</th>\n",
       "      <td>L. Messi</td>\n",
       "      <td>30</td>\n",
       "      <td>Argentina</td>\n",
       "      <td>93</td>\n",
       "      <td>FC Barcelona</td>\n",
       "      <td>€105M</td>\n",
       "      <td>RW</td>\n",
       "    </tr>\n",
       "    <tr>\n",
       "      <th>2</th>\n",
       "      <td>Neymar</td>\n",
       "      <td>25</td>\n",
       "      <td>Brazil</td>\n",
       "      <td>92</td>\n",
       "      <td>Paris Saint-Germain</td>\n",
       "      <td>€123M</td>\n",
       "      <td>LW</td>\n",
       "    </tr>\n",
       "    <tr>\n",
       "      <th>3</th>\n",
       "      <td>L. Suárez</td>\n",
       "      <td>30</td>\n",
       "      <td>Uruguay</td>\n",
       "      <td>92</td>\n",
       "      <td>FC Barcelona</td>\n",
       "      <td>€97M</td>\n",
       "      <td>ST</td>\n",
       "    </tr>\n",
       "    <tr>\n",
       "      <th>4</th>\n",
       "      <td>M. Neuer</td>\n",
       "      <td>31</td>\n",
       "      <td>Germany</td>\n",
       "      <td>92</td>\n",
       "      <td>FC Bayern Munich</td>\n",
       "      <td>€61M</td>\n",
       "      <td>GK</td>\n",
       "    </tr>\n",
       "    <tr>\n",
       "      <th>5</th>\n",
       "      <td>R. Lewandowski</td>\n",
       "      <td>28</td>\n",
       "      <td>Poland</td>\n",
       "      <td>91</td>\n",
       "      <td>FC Bayern Munich</td>\n",
       "      <td>€92M</td>\n",
       "      <td>ST</td>\n",
       "    </tr>\n",
       "    <tr>\n",
       "      <th>6</th>\n",
       "      <td>De Gea</td>\n",
       "      <td>26</td>\n",
       "      <td>Spain</td>\n",
       "      <td>90</td>\n",
       "      <td>Manchester United</td>\n",
       "      <td>€64.5M</td>\n",
       "      <td>GK</td>\n",
       "    </tr>\n",
       "    <tr>\n",
       "      <th>7</th>\n",
       "      <td>E. Hazard</td>\n",
       "      <td>26</td>\n",
       "      <td>Belgium</td>\n",
       "      <td>90</td>\n",
       "      <td>Chelsea</td>\n",
       "      <td>€90.5M</td>\n",
       "      <td>LW</td>\n",
       "    </tr>\n",
       "    <tr>\n",
       "      <th>8</th>\n",
       "      <td>T. Kroos</td>\n",
       "      <td>27</td>\n",
       "      <td>Germany</td>\n",
       "      <td>90</td>\n",
       "      <td>Real Madrid CF</td>\n",
       "      <td>€79M</td>\n",
       "      <td>CDM</td>\n",
       "    </tr>\n",
       "    <tr>\n",
       "      <th>9</th>\n",
       "      <td>G. Higuaín</td>\n",
       "      <td>29</td>\n",
       "      <td>Argentina</td>\n",
       "      <td>90</td>\n",
       "      <td>Juventus</td>\n",
       "      <td>€77M</td>\n",
       "      <td>ST</td>\n",
       "    </tr>\n",
       "  </tbody>\n",
       "</table>\n",
       "</div>"
      ],
      "text/plain": [
       "                Name  Age Nationality  Overall                 Club   Value  \\\n",
       "0  Cristiano Ronaldo   32    Portugal       94       Real Madrid CF  €95.5M   \n",
       "1           L. Messi   30   Argentina       93         FC Barcelona   €105M   \n",
       "2             Neymar   25      Brazil       92  Paris Saint-Germain   €123M   \n",
       "3          L. Suárez   30     Uruguay       92         FC Barcelona    €97M   \n",
       "4           M. Neuer   31     Germany       92     FC Bayern Munich    €61M   \n",
       "5     R. Lewandowski   28      Poland       91     FC Bayern Munich    €92M   \n",
       "6             De Gea   26       Spain       90    Manchester United  €64.5M   \n",
       "7          E. Hazard   26     Belgium       90              Chelsea  €90.5M   \n",
       "8           T. Kroos   27     Germany       90       Real Madrid CF    €79M   \n",
       "9         G. Higuaín   29   Argentina       90             Juventus    €77M   \n",
       "\n",
       "  Preferred Positions  \n",
       "0                  ST  \n",
       "1                  RW  \n",
       "2                  LW  \n",
       "3                  ST  \n",
       "4                  GK  \n",
       "5                  ST  \n",
       "6                  GK  \n",
       "7                  LW  \n",
       "8                 CDM  \n",
       "9                  ST  "
      ]
     },
     "execution_count": 5,
     "metadata": {},
     "output_type": "execute_result"
    }
   ],
   "source": [
    "# Imprimiendo los primeros 10 registros\n",
    "df_fifa.head(10)"
   ]
  },
  {
   "cell_type": "markdown",
   "metadata": {},
   "source": [
    "### Transformando al tipo de dato correcto la columna *Value*"
   ]
  },
  {
   "cell_type": "code",
   "execution_count": 6,
   "metadata": {},
   "outputs": [
    {
     "data": {
      "text/plain": [
       "{'.', '0', '1', '2', '3', '4', '5', '6', '7', '8', '9', 'K', 'M', '€'}"
      ]
     },
     "execution_count": 6,
     "metadata": {},
     "output_type": "execute_result"
    }
   ],
   "source": [
    "# La columna \"value\" no es de tipo entero\n",
    "# Verificando los diferentes caractéres que contiene esta columna\n",
    "\n",
    "set_char = set()\n",
    "\n",
    "def add_chars(x):\n",
    "    for i in x:\n",
    "        set_char.add(i)\n",
    "    return True\n",
    "\n",
    "df_fifa[\"Value\"].apply(add_chars)\n",
    "set_char"
   ]
  },
  {
   "cell_type": "code",
   "execution_count": 7,
   "metadata": {},
   "outputs": [],
   "source": [
    "# Convirtiendo la columna a valor numérico\n",
    "\n",
    "def get_value(x):\n",
    "    x = x.replace('€','')\n",
    "    if 'M' in x:\n",
    "        x = x.replace('M','')\n",
    "        return float(x)*1000000\n",
    "    elif 'K' in x:\n",
    "        x = x.replace('K','')\n",
    "        return float(x)*1000\n",
    "    else:\n",
    "        return float(x)\n",
    "\n",
    "df_fifa[\"Value\"] = df_fifa[\"Value\"].apply(get_value)"
   ]
  },
  {
   "cell_type": "markdown",
   "metadata": {},
   "source": [
    "### Análisis cuantitativo sobre la columna *Value*"
   ]
  },
  {
   "cell_type": "code",
   "execution_count": 8,
   "metadata": {},
   "outputs": [
    {
     "data": {
      "text/plain": [
       "2385389.5778877703"
      ]
     },
     "execution_count": 8,
     "metadata": {},
     "output_type": "execute_result"
    }
   ],
   "source": [
    "# Calculando el promedio del valor de los jugadores\n",
    "mean = np.mean(df_fifa[\"Value\"])\n",
    "mean"
   ]
  },
  {
   "cell_type": "code",
   "execution_count": 9,
   "metadata": {},
   "outputs": [
    {
     "data": {
      "text/plain": [
       "675000.0"
      ]
     },
     "execution_count": 9,
     "metadata": {},
     "output_type": "execute_result"
    }
   ],
   "source": [
    "# Calculando la mediana del valor de los jugadores\n",
    "median = np.median(df_fifa[\"Value\"])\n",
    "median"
   ]
  },
  {
   "cell_type": "code",
   "execution_count": 10,
   "metadata": {},
   "outputs": [
    {
     "data": {
      "text/plain": [
       "<matplotlib.axes._subplots.AxesSubplot at 0x7ffb6134f210>"
      ]
     },
     "execution_count": 10,
     "metadata": {},
     "output_type": "execute_result"
    },
    {
     "data": {
      "image/png": "[encoded data removed]",
      "text/plain": [
       "<Figure size 432x288 with 1 Axes>"
      ]
     },
     "metadata": {
      "needs_background": "light"
     },
     "output_type": "display_data"
    }
   ],
   "source": [
    "# Pintando el histograma del valor de los jugadores\n",
    "df_fifa[\"Value\"].hist()"
   ]
  },
  {
   "cell_type": "code",
   "execution_count": 11,
   "metadata": {},
   "outputs": [
    {
     "data": {
      "text/plain": [
       "<matplotlib.axes._subplots.AxesSubplot at 0x7ffb625b0790>"
      ]
     },
     "execution_count": 11,
     "metadata": {},
     "output_type": "execute_result"
    },
    {
     "data": {
      "image/png": "[encoded data removed]",
      "text/plain": [
       "<Figure size 432x288 with 1 Axes>"
      ]
     },
     "metadata": {
      "needs_background": "light"
     },
     "output_type": "display_data"
    }
   ],
   "source": [
    "# Dado que no se logra una buena visualización, se pinta nuevamente modificando la cantidad de bins (grupos) y el rango del eje x\n",
    "df_fifa[\"Value\"].hist(bins = 100, range = [0, 20000000])"
   ]
  },
  {
   "cell_type": "code",
   "execution_count": 12,
   "metadata": {},
   "outputs": [
    {
     "data": {
      "text/plain": [
       "28663400261162.418"
      ]
     },
     "execution_count": 12,
     "metadata": {},
     "output_type": "execute_result"
    }
   ],
   "source": [
    "# Calculando la varianza del valor de los jugadores\n",
    "variance = np.var(df_fifa[\"Value\"])\n",
    "variance"
   ]
  },
  {
   "cell_type": "code",
   "execution_count": 13,
   "metadata": {},
   "outputs": [
    {
     "data": {
      "text/plain": [
       "5353821.089760323"
      ]
     },
     "execution_count": 13,
     "metadata": {},
     "output_type": "execute_result"
    }
   ],
   "source": [
    "# Dado que las unidades de la varianza son más dificiles de interpretar, se calcula la desviación estándar del valor de los jugadores\n",
    "std_deviation = np.std(df_fifa[\"Value\"])\n",
    "std_deviation"
   ]
  },
  {
   "cell_type": "code",
   "execution_count": 14,
   "metadata": {},
   "outputs": [
    {
     "name": "stdout",
     "output_type": "stream",
     "text": [
      "El 25% de los jugadores con los salarios más bajos ganan a lo sumo 300000.0\n",
      "El siguiente 25% de los jugadores con los salarios más bajos ganan entre 300000.0 y 675000.0\n",
      "El 25% de los jugadores con los salarios más altos ganan más de 2100000.0\n"
     ]
    }
   ],
   "source": [
    "# Calculando los diferentes quartiles del valor de los jugadores\n",
    "q1 = np.percentile(df_fifa[\"Value\"], 25)\n",
    "print(\"El 25% de los jugadores con los salarios más bajos ganan a lo sumo {}\".format(q1))\n",
    "\n",
    "q2 = np.percentile(df_fifa[\"Value\"], 50)\n",
    "print(\"El siguiente 25% de los jugadores con los salarios más bajos ganan entre {} y {}\".format(q1, q2))\n",
    "\n",
    "q3 = np.percentile(df_fifa[\"Value\"], 75)\n",
    "print(\"El 25% de los jugadores con los salarios más altos ganan más de {}\".format(q3))"
   ]
  },
  {
   "cell_type": "code",
   "execution_count": 15,
   "metadata": {},
   "outputs": [
    {
     "data": {
      "text/plain": [
       "81.52897382468426"
      ]
     },
     "execution_count": 15,
     "metadata": {},
     "output_type": "execute_result"
    }
   ],
   "source": [
    "# Calculando la curtosis de la distribución del valor de los jugadores\n",
    "kurtosis = scipy.stats.kurtosis(df_fifa[\"Value\"])\n",
    "kurtosis"
   ]
  },
  {
   "cell_type": "code",
   "execution_count": 16,
   "metadata": {},
   "outputs": [
    {
     "data": {
      "text/plain": [
       "7.074886165642367"
      ]
     },
     "execution_count": 16,
     "metadata": {},
     "output_type": "execute_result"
    }
   ],
   "source": [
    "# Calculando la asimetría de la distribución del valor de los jugadores\n",
    "asymmetry = scipy.stats.skew(df_fifa[\"Value\"])\n",
    "asymmetry"
   ]
  },
  {
   "cell_type": "code",
   "execution_count": 17,
   "metadata": {},
   "outputs": [
    {
     "data": {
      "text/plain": [
       "0.0"
      ]
     },
     "execution_count": 17,
     "metadata": {},
     "output_type": "execute_result"
    }
   ],
   "source": [
    "# Calculando el valor del jugador más barato\n",
    "minimum = np.min(df_fifa[\"Value\"])\n",
    "minimum"
   ]
  },
  {
   "cell_type": "code",
   "execution_count": 18,
   "metadata": {},
   "outputs": [
    {
     "data": {
      "text/html": [
       "<div>\n",
       "<style scoped>\n",
       "    .dataframe tbody tr th:only-of-type {\n",
       "        vertical-align: middle;\n",
       "    }\n",
       "\n",
       "    .dataframe tbody tr th {\n",
       "        vertical-align: top;\n",
       "    }\n",
       "\n",
       "    .dataframe thead th {\n",
       "        text-align: right;\n",
       "    }\n",
       "</style>\n",
       "<table border=\"1\" class=\"dataframe\">\n",
       "  <thead>\n",
       "    <tr style=\"text-align: right;\">\n",
       "      <th></th>\n",
       "      <th>Name</th>\n",
       "      <th>Age</th>\n",
       "      <th>Nationality</th>\n",
       "      <th>Overall</th>\n",
       "      <th>Club</th>\n",
       "      <th>Value</th>\n",
       "      <th>Preferred Positions</th>\n",
       "    </tr>\n",
       "  </thead>\n",
       "  <tbody>\n",
       "    <tr>\n",
       "      <th>162</th>\n",
       "      <td>Oscar</td>\n",
       "      <td>25</td>\n",
       "      <td>Brazil</td>\n",
       "      <td>83</td>\n",
       "      <td>NaN</td>\n",
       "      <td>0.0</td>\n",
       "      <td>CAM</td>\n",
       "    </tr>\n",
       "    <tr>\n",
       "      <th>167</th>\n",
       "      <td>Adrien Silva</td>\n",
       "      <td>28</td>\n",
       "      <td>Portugal</td>\n",
       "      <td>83</td>\n",
       "      <td>NaN</td>\n",
       "      <td>0.0</td>\n",
       "      <td>CDM</td>\n",
       "    </tr>\n",
       "    <tr>\n",
       "      <th>274</th>\n",
       "      <td>A. Witsel</td>\n",
       "      <td>28</td>\n",
       "      <td>Belgium</td>\n",
       "      <td>82</td>\n",
       "      <td>NaN</td>\n",
       "      <td>0.0</td>\n",
       "      <td>CAM</td>\n",
       "    </tr>\n",
       "    <tr>\n",
       "      <th>472</th>\n",
       "      <td>M. Berg</td>\n",
       "      <td>30</td>\n",
       "      <td>Sweden</td>\n",
       "      <td>80</td>\n",
       "      <td>NaN</td>\n",
       "      <td>0.0</td>\n",
       "      <td>CF</td>\n",
       "    </tr>\n",
       "    <tr>\n",
       "      <th>488</th>\n",
       "      <td>Renato Augusto</td>\n",
       "      <td>29</td>\n",
       "      <td>Brazil</td>\n",
       "      <td>80</td>\n",
       "      <td>NaN</td>\n",
       "      <td>0.0</td>\n",
       "      <td>LM</td>\n",
       "    </tr>\n",
       "    <tr>\n",
       "      <th>...</th>\n",
       "      <td>...</td>\n",
       "      <td>...</td>\n",
       "      <td>...</td>\n",
       "      <td>...</td>\n",
       "      <td>...</td>\n",
       "      <td>...</td>\n",
       "      <td>...</td>\n",
       "    </tr>\n",
       "    <tr>\n",
       "      <th>17492</th>\n",
       "      <td>S. Passi</td>\n",
       "      <td>22</td>\n",
       "      <td>India</td>\n",
       "      <td>52</td>\n",
       "      <td>NaN</td>\n",
       "      <td>0.0</td>\n",
       "      <td>ST</td>\n",
       "    </tr>\n",
       "    <tr>\n",
       "      <th>17553</th>\n",
       "      <td>S. Brotherton</td>\n",
       "      <td>20</td>\n",
       "      <td>New Zealand</td>\n",
       "      <td>52</td>\n",
       "      <td>NaN</td>\n",
       "      <td>0.0</td>\n",
       "      <td>CB</td>\n",
       "    </tr>\n",
       "    <tr>\n",
       "      <th>17605</th>\n",
       "      <td>A. Al Basisi</td>\n",
       "      <td>39</td>\n",
       "      <td>Saudi Arabia</td>\n",
       "      <td>52</td>\n",
       "      <td>Ohod Club</td>\n",
       "      <td>0.0</td>\n",
       "      <td>GK</td>\n",
       "    </tr>\n",
       "    <tr>\n",
       "      <th>17617</th>\n",
       "      <td>P. Jennings</td>\n",
       "      <td>37</td>\n",
       "      <td>England</td>\n",
       "      <td>52</td>\n",
       "      <td>St. Patrick's Athletic</td>\n",
       "      <td>0.0</td>\n",
       "      <td>GK</td>\n",
       "    </tr>\n",
       "    <tr>\n",
       "      <th>17977</th>\n",
       "      <td>B. Richardson</td>\n",
       "      <td>47</td>\n",
       "      <td>England</td>\n",
       "      <td>46</td>\n",
       "      <td>Wycombe Wanderers</td>\n",
       "      <td>0.0</td>\n",
       "      <td>GK</td>\n",
       "    </tr>\n",
       "  </tbody>\n",
       "</table>\n",
       "<p>256 rows × 7 columns</p>\n",
       "</div>"
      ],
      "text/plain": [
       "                 Name  Age   Nationality  Overall                    Club  \\\n",
       "162             Oscar   25        Brazil       83                     NaN   \n",
       "167      Adrien Silva   28      Portugal       83                     NaN   \n",
       "274         A. Witsel   28       Belgium       82                     NaN   \n",
       "472           M. Berg   30        Sweden       80                     NaN   \n",
       "488    Renato Augusto   29        Brazil       80                     NaN   \n",
       "...               ...  ...           ...      ...                     ...   \n",
       "17492        S. Passi   22         India       52                     NaN   \n",
       "17553   S. Brotherton   20   New Zealand       52                     NaN   \n",
       "17605    A. Al Basisi   39  Saudi Arabia       52               Ohod Club   \n",
       "17617     P. Jennings   37       England       52  St. Patrick's Athletic   \n",
       "17977   B. Richardson   47       England       46       Wycombe Wanderers   \n",
       "\n",
       "       Value Preferred Positions  \n",
       "162      0.0                 CAM  \n",
       "167      0.0                 CDM  \n",
       "274      0.0                 CAM  \n",
       "472      0.0                  CF  \n",
       "488      0.0                  LM  \n",
       "...      ...                 ...  \n",
       "17492    0.0                  ST  \n",
       "17553    0.0                  CB  \n",
       "17605    0.0                  GK  \n",
       "17617    0.0                  GK  \n",
       "17977    0.0                  GK  \n",
       "\n",
       "[256 rows x 7 columns]"
      ]
     },
     "execution_count": 18,
     "metadata": {},
     "output_type": "execute_result"
    }
   ],
   "source": [
    "# ¿Quién o quiénes son los jugadores con el valor más bajo?\n",
    "df_fifa.loc[df_fifa[\"Value\"] == minimum]"
   ]
  },
  {
   "cell_type": "code",
   "execution_count": 19,
   "metadata": {},
   "outputs": [
    {
     "data": {
      "text/plain": [
       "123000000.0"
      ]
     },
     "execution_count": 19,
     "metadata": {},
     "output_type": "execute_result"
    }
   ],
   "source": [
    "# Calculando el valor del jugador más caro\n",
    "maximum = np.max(df_fifa[\"Value\"])\n",
    "maximum"
   ]
  },
  {
   "cell_type": "code",
   "execution_count": 20,
   "metadata": {},
   "outputs": [
    {
     "data": {
      "text/html": [
       "<div>\n",
       "<style scoped>\n",
       "    .dataframe tbody tr th:only-of-type {\n",
       "        vertical-align: middle;\n",
       "    }\n",
       "\n",
       "    .dataframe tbody tr th {\n",
       "        vertical-align: top;\n",
       "    }\n",
       "\n",
       "    .dataframe thead th {\n",
       "        text-align: right;\n",
       "    }\n",
       "</style>\n",
       "<table border=\"1\" class=\"dataframe\">\n",
       "  <thead>\n",
       "    <tr style=\"text-align: right;\">\n",
       "      <th></th>\n",
       "      <th>Name</th>\n",
       "      <th>Age</th>\n",
       "      <th>Nationality</th>\n",
       "      <th>Overall</th>\n",
       "      <th>Club</th>\n",
       "      <th>Value</th>\n",
       "      <th>Preferred Positions</th>\n",
       "    </tr>\n",
       "  </thead>\n",
       "  <tbody>\n",
       "    <tr>\n",
       "      <th>2</th>\n",
       "      <td>Neymar</td>\n",
       "      <td>25</td>\n",
       "      <td>Brazil</td>\n",
       "      <td>92</td>\n",
       "      <td>Paris Saint-Germain</td>\n",
       "      <td>123000000.0</td>\n",
       "      <td>LW</td>\n",
       "    </tr>\n",
       "  </tbody>\n",
       "</table>\n",
       "</div>"
      ],
      "text/plain": [
       "     Name  Age Nationality  Overall                 Club        Value  \\\n",
       "2  Neymar   25      Brazil       92  Paris Saint-Germain  123000000.0   \n",
       "\n",
       "  Preferred Positions  \n",
       "2                  LW  "
      ]
     },
     "execution_count": 20,
     "metadata": {},
     "output_type": "execute_result"
    }
   ],
   "source": [
    "# ¿Quién es el jugador con el valor más alto?\n",
    "df_fifa.loc[df_fifa[\"Value\"] == maximum]"
   ]
  },
  {
   "cell_type": "code",
   "execution_count": 21,
   "metadata": {},
   "outputs": [
    {
     "data": {
      "text/plain": [
       "count    1.798100e+04\n",
       "mean     2.385390e+06\n",
       "std      5.353970e+06\n",
       "min      0.000000e+00\n",
       "25%      3.000000e+05\n",
       "50%      6.750000e+05\n",
       "75%      2.100000e+06\n",
       "max      1.230000e+08\n",
       "Name: Value, dtype: float64"
      ]
     },
     "execution_count": 21,
     "metadata": {},
     "output_type": "execute_result"
    }
   ],
   "source": [
    "# Utilizando la función describe para el cálculo de las principales estadísticas de interés para una variable cuantitativa\n",
    "df_fifa[\"Value\"].describe()"
   ]
  },
  {
   "cell_type": "code",
   "execution_count": 22,
   "metadata": {},
   "outputs": [
    {
     "data": {
      "text/html": [
       "<div>\n",
       "<style scoped>\n",
       "    .dataframe tbody tr th:only-of-type {\n",
       "        vertical-align: middle;\n",
       "    }\n",
       "\n",
       "    .dataframe tbody tr th {\n",
       "        vertical-align: top;\n",
       "    }\n",
       "\n",
       "    .dataframe thead th {\n",
       "        text-align: right;\n",
       "    }\n",
       "</style>\n",
       "<table border=\"1\" class=\"dataframe\">\n",
       "  <thead>\n",
       "    <tr style=\"text-align: right;\">\n",
       "      <th></th>\n",
       "      <th>Name</th>\n",
       "      <th>Age</th>\n",
       "      <th>Nationality</th>\n",
       "      <th>Overall</th>\n",
       "      <th>Club</th>\n",
       "      <th>Value</th>\n",
       "      <th>Preferred Positions</th>\n",
       "    </tr>\n",
       "  </thead>\n",
       "  <tbody>\n",
       "    <tr>\n",
       "      <th>0</th>\n",
       "      <td>Cristiano Ronaldo</td>\n",
       "      <td>32</td>\n",
       "      <td>Portugal</td>\n",
       "      <td>94</td>\n",
       "      <td>Real Madrid CF</td>\n",
       "      <td>95500000.0</td>\n",
       "      <td>ST</td>\n",
       "    </tr>\n",
       "    <tr>\n",
       "      <th>1</th>\n",
       "      <td>L. Messi</td>\n",
       "      <td>30</td>\n",
       "      <td>Argentina</td>\n",
       "      <td>93</td>\n",
       "      <td>FC Barcelona</td>\n",
       "      <td>105000000.0</td>\n",
       "      <td>RW</td>\n",
       "    </tr>\n",
       "    <tr>\n",
       "      <th>2</th>\n",
       "      <td>Neymar</td>\n",
       "      <td>25</td>\n",
       "      <td>Brazil</td>\n",
       "      <td>92</td>\n",
       "      <td>Paris Saint-Germain</td>\n",
       "      <td>123000000.0</td>\n",
       "      <td>LW</td>\n",
       "    </tr>\n",
       "    <tr>\n",
       "      <th>3</th>\n",
       "      <td>L. Suárez</td>\n",
       "      <td>30</td>\n",
       "      <td>Uruguay</td>\n",
       "      <td>92</td>\n",
       "      <td>FC Barcelona</td>\n",
       "      <td>97000000.0</td>\n",
       "      <td>ST</td>\n",
       "    </tr>\n",
       "    <tr>\n",
       "      <th>4</th>\n",
       "      <td>M. Neuer</td>\n",
       "      <td>31</td>\n",
       "      <td>Germany</td>\n",
       "      <td>92</td>\n",
       "      <td>FC Bayern Munich</td>\n",
       "      <td>61000000.0</td>\n",
       "      <td>GK</td>\n",
       "    </tr>\n",
       "    <tr>\n",
       "      <th>...</th>\n",
       "      <td>...</td>\n",
       "      <td>...</td>\n",
       "      <td>...</td>\n",
       "      <td>...</td>\n",
       "      <td>...</td>\n",
       "      <td>...</td>\n",
       "      <td>...</td>\n",
       "    </tr>\n",
       "    <tr>\n",
       "      <th>486</th>\n",
       "      <td>E. Lamela</td>\n",
       "      <td>25</td>\n",
       "      <td>Argentina</td>\n",
       "      <td>80</td>\n",
       "      <td>Tottenham Hotspur</td>\n",
       "      <td>18500000.0</td>\n",
       "      <td>LM</td>\n",
       "    </tr>\n",
       "    <tr>\n",
       "      <th>528</th>\n",
       "      <td>M. Dahoud</td>\n",
       "      <td>21</td>\n",
       "      <td>Germany</td>\n",
       "      <td>79</td>\n",
       "      <td>Borussia Dortmund</td>\n",
       "      <td>18500000.0</td>\n",
       "      <td>CDM</td>\n",
       "    </tr>\n",
       "    <tr>\n",
       "      <th>534</th>\n",
       "      <td>A. Correa</td>\n",
       "      <td>22</td>\n",
       "      <td>Argentina</td>\n",
       "      <td>79</td>\n",
       "      <td>Atlético Madrid</td>\n",
       "      <td>19000000.0</td>\n",
       "      <td>RW</td>\n",
       "    </tr>\n",
       "    <tr>\n",
       "      <th>537</th>\n",
       "      <td>W. Cyprien</td>\n",
       "      <td>22</td>\n",
       "      <td>France</td>\n",
       "      <td>79</td>\n",
       "      <td>OGC Nice</td>\n",
       "      <td>18500000.0</td>\n",
       "      <td>CDM</td>\n",
       "    </tr>\n",
       "    <tr>\n",
       "      <th>556</th>\n",
       "      <td>S. Gnabry</td>\n",
       "      <td>21</td>\n",
       "      <td>Germany</td>\n",
       "      <td>79</td>\n",
       "      <td>TSG 1899 Hoffenheim</td>\n",
       "      <td>18500000.0</td>\n",
       "      <td>RM</td>\n",
       "    </tr>\n",
       "  </tbody>\n",
       "</table>\n",
       "<p>317 rows × 7 columns</p>\n",
       "</div>"
      ],
      "text/plain": [
       "                  Name  Age Nationality  Overall                 Club  \\\n",
       "0    Cristiano Ronaldo   32    Portugal       94       Real Madrid CF   \n",
       "1             L. Messi   30   Argentina       93         FC Barcelona   \n",
       "2               Neymar   25      Brazil       92  Paris Saint-Germain   \n",
       "3            L. Suárez   30     Uruguay       92         FC Barcelona   \n",
       "4             M. Neuer   31     Germany       92     FC Bayern Munich   \n",
       "..                 ...  ...         ...      ...                  ...   \n",
       "486          E. Lamela   25   Argentina       80    Tottenham Hotspur   \n",
       "528          M. Dahoud   21     Germany       79    Borussia Dortmund   \n",
       "534          A. Correa   22   Argentina       79      Atlético Madrid   \n",
       "537         W. Cyprien   22      France       79             OGC Nice   \n",
       "556          S. Gnabry   21     Germany       79  TSG 1899 Hoffenheim   \n",
       "\n",
       "           Value Preferred Positions  \n",
       "0     95500000.0                  ST  \n",
       "1    105000000.0                  RW  \n",
       "2    123000000.0                  LW  \n",
       "3     97000000.0                  ST  \n",
       "4     61000000.0                  GK  \n",
       "..           ...                 ...  \n",
       "486   18500000.0                  LM  \n",
       "528   18500000.0                 CDM  \n",
       "534   19000000.0                  RW  \n",
       "537   18500000.0                 CDM  \n",
       "556   18500000.0                  RM  \n",
       "\n",
       "[317 rows x 7 columns]"
      ]
     },
     "execution_count": 22,
     "metadata": {},
     "output_type": "execute_result"
    }
   ],
   "source": [
    "# Revisando los jugadores con valores atípicos\n",
    "df_fifa[df_fifa[\"Value\"] > (mean + std_deviation * 3)]"
   ]
  },
  {
   "cell_type": "code",
   "execution_count": 23,
   "metadata": {},
   "outputs": [
    {
     "data": {
      "text/html": [
       "<div>\n",
       "<style scoped>\n",
       "    .dataframe tbody tr th:only-of-type {\n",
       "        vertical-align: middle;\n",
       "    }\n",
       "\n",
       "    .dataframe tbody tr th {\n",
       "        vertical-align: top;\n",
       "    }\n",
       "\n",
       "    .dataframe thead th {\n",
       "        text-align: right;\n",
       "    }\n",
       "</style>\n",
       "<table border=\"1\" class=\"dataframe\">\n",
       "  <thead>\n",
       "    <tr style=\"text-align: right;\">\n",
       "      <th></th>\n",
       "      <th>Name</th>\n",
       "      <th>Age</th>\n",
       "      <th>Nationality</th>\n",
       "      <th>Overall</th>\n",
       "      <th>Club</th>\n",
       "      <th>Value</th>\n",
       "      <th>Preferred Positions</th>\n",
       "    </tr>\n",
       "  </thead>\n",
       "  <tbody>\n",
       "    <tr>\n",
       "      <th>0</th>\n",
       "      <td>Cristiano Ronaldo</td>\n",
       "      <td>32</td>\n",
       "      <td>Portugal</td>\n",
       "      <td>94</td>\n",
       "      <td>Real Madrid CF</td>\n",
       "      <td>95500000.0</td>\n",
       "      <td>ST</td>\n",
       "    </tr>\n",
       "    <tr>\n",
       "      <th>1</th>\n",
       "      <td>L. Messi</td>\n",
       "      <td>30</td>\n",
       "      <td>Argentina</td>\n",
       "      <td>93</td>\n",
       "      <td>FC Barcelona</td>\n",
       "      <td>105000000.0</td>\n",
       "      <td>RW</td>\n",
       "    </tr>\n",
       "    <tr>\n",
       "      <th>2</th>\n",
       "      <td>Neymar</td>\n",
       "      <td>25</td>\n",
       "      <td>Brazil</td>\n",
       "      <td>92</td>\n",
       "      <td>Paris Saint-Germain</td>\n",
       "      <td>123000000.0</td>\n",
       "      <td>LW</td>\n",
       "    </tr>\n",
       "    <tr>\n",
       "      <th>3</th>\n",
       "      <td>L. Suárez</td>\n",
       "      <td>30</td>\n",
       "      <td>Uruguay</td>\n",
       "      <td>92</td>\n",
       "      <td>FC Barcelona</td>\n",
       "      <td>97000000.0</td>\n",
       "      <td>ST</td>\n",
       "    </tr>\n",
       "    <tr>\n",
       "      <th>5</th>\n",
       "      <td>R. Lewandowski</td>\n",
       "      <td>28</td>\n",
       "      <td>Poland</td>\n",
       "      <td>91</td>\n",
       "      <td>FC Bayern Munich</td>\n",
       "      <td>92000000.0</td>\n",
       "      <td>ST</td>\n",
       "    </tr>\n",
       "    <tr>\n",
       "      <th>7</th>\n",
       "      <td>E. Hazard</td>\n",
       "      <td>26</td>\n",
       "      <td>Belgium</td>\n",
       "      <td>90</td>\n",
       "      <td>Chelsea</td>\n",
       "      <td>90500000.0</td>\n",
       "      <td>LW</td>\n",
       "    </tr>\n",
       "    <tr>\n",
       "      <th>11</th>\n",
       "      <td>K. De Bruyne</td>\n",
       "      <td>26</td>\n",
       "      <td>Belgium</td>\n",
       "      <td>89</td>\n",
       "      <td>Manchester City</td>\n",
       "      <td>83000000.0</td>\n",
       "      <td>RM</td>\n",
       "    </tr>\n",
       "  </tbody>\n",
       "</table>\n",
       "</div>"
      ],
      "text/plain": [
       "                 Name  Age Nationality  Overall                 Club  \\\n",
       "0   Cristiano Ronaldo   32    Portugal       94       Real Madrid CF   \n",
       "1            L. Messi   30   Argentina       93         FC Barcelona   \n",
       "2              Neymar   25      Brazil       92  Paris Saint-Germain   \n",
       "3           L. Suárez   30     Uruguay       92         FC Barcelona   \n",
       "5      R. Lewandowski   28      Poland       91     FC Bayern Munich   \n",
       "7           E. Hazard   26     Belgium       90              Chelsea   \n",
       "11       K. De Bruyne   26     Belgium       89      Manchester City   \n",
       "\n",
       "          Value Preferred Positions  \n",
       "0    95500000.0                  ST  \n",
       "1   105000000.0                  RW  \n",
       "2   123000000.0                  LW  \n",
       "3    97000000.0                  ST  \n",
       "5    92000000.0                  ST  \n",
       "7    90500000.0                  LW  \n",
       "11   83000000.0                  RM  "
      ]
     },
     "execution_count": 23,
     "metadata": {},
     "output_type": "execute_result"
    }
   ],
   "source": [
    "# Revisando los jugadores con un valores extremos\n",
    "df_fifa[df_fifa[\"Value\"] > (mean + std_deviation * 15)]"
   ]
  },
  {
   "cell_type": "markdown",
   "metadata": {},
   "source": [
    "### Análisis cualitativo sobre la columna *Preferred Positions*"
   ]
  },
  {
   "cell_type": "code",
   "execution_count": 24,
   "metadata": {},
   "outputs": [
    {
     "data": {
      "text/html": [
       "<div>\n",
       "<style scoped>\n",
       "    .dataframe tbody tr th:only-of-type {\n",
       "        vertical-align: middle;\n",
       "    }\n",
       "\n",
       "    .dataframe tbody tr th {\n",
       "        vertical-align: top;\n",
       "    }\n",
       "\n",
       "    .dataframe thead th {\n",
       "        text-align: right;\n",
       "    }\n",
       "</style>\n",
       "<table border=\"1\" class=\"dataframe\">\n",
       "  <thead>\n",
       "    <tr style=\"text-align: right;\">\n",
       "      <th></th>\n",
       "      <th>Preferred Positions</th>\n",
       "    </tr>\n",
       "  </thead>\n",
       "  <tbody>\n",
       "    <tr>\n",
       "      <th>CB</th>\n",
       "      <td>2705</td>\n",
       "    </tr>\n",
       "    <tr>\n",
       "      <th>ST</th>\n",
       "      <td>2277</td>\n",
       "    </tr>\n",
       "    <tr>\n",
       "      <th>GK</th>\n",
       "      <td>2029</td>\n",
       "    </tr>\n",
       "    <tr>\n",
       "      <th>CM</th>\n",
       "      <td>1977</td>\n",
       "    </tr>\n",
       "    <tr>\n",
       "      <th>CDM</th>\n",
       "      <td>1396</td>\n",
       "    </tr>\n",
       "    <tr>\n",
       "      <th>RM</th>\n",
       "      <td>1350</td>\n",
       "    </tr>\n",
       "    <tr>\n",
       "      <th>LM</th>\n",
       "      <td>1326</td>\n",
       "    </tr>\n",
       "    <tr>\n",
       "      <th>LB</th>\n",
       "      <td>1309</td>\n",
       "    </tr>\n",
       "    <tr>\n",
       "      <th>RB</th>\n",
       "      <td>1195</td>\n",
       "    </tr>\n",
       "    <tr>\n",
       "      <th>CAM</th>\n",
       "      <td>1125</td>\n",
       "    </tr>\n",
       "    <tr>\n",
       "      <th>RW</th>\n",
       "      <td>429</td>\n",
       "    </tr>\n",
       "    <tr>\n",
       "      <th>LW</th>\n",
       "      <td>427</td>\n",
       "    </tr>\n",
       "    <tr>\n",
       "      <th>CF</th>\n",
       "      <td>205</td>\n",
       "    </tr>\n",
       "    <tr>\n",
       "      <th>LWB</th>\n",
       "      <td>120</td>\n",
       "    </tr>\n",
       "    <tr>\n",
       "      <th>RWB</th>\n",
       "      <td>111</td>\n",
       "    </tr>\n",
       "  </tbody>\n",
       "</table>\n",
       "</div>"
      ],
      "text/plain": [
       "     Preferred Positions\n",
       "CB                  2705\n",
       "ST                  2277\n",
       "GK                  2029\n",
       "CM                  1977\n",
       "CDM                 1396\n",
       "RM                  1350\n",
       "LM                  1326\n",
       "LB                  1309\n",
       "RB                  1195\n",
       "CAM                 1125\n",
       "RW                   429\n",
       "LW                   427\n",
       "CF                   205\n",
       "LWB                  120\n",
       "RWB                  111"
      ]
     },
     "execution_count": 24,
     "metadata": {},
     "output_type": "execute_result"
    }
   ],
   "source": [
    "# Calculando la frecuencia de las diferentes posiciones de los jugadores\n",
    "abs_frecuency = df_fifa[\"Preferred Positions\"].value_counts().to_frame()\n",
    "abs_frecuency"
   ]
  },
  {
   "cell_type": "code",
   "execution_count": 25,
   "metadata": {},
   "outputs": [
    {
     "data": {
      "text/plain": [
       "<matplotlib.axes._subplots.AxesSubplot at 0x7ffb627af7d0>"
      ]
     },
     "execution_count": 25,
     "metadata": {},
     "output_type": "execute_result"
    },
    {
     "data": {
      "image/png": "[encoded data removed]",
      "text/plain": [
       "<Figure size 432x288 with 1 Axes>"
      ]
     },
     "metadata": {
      "needs_background": "light"
     },
     "output_type": "display_data"
    }
   ],
   "source": [
    "# Pintando la misma frecuencia de las posiciones\n",
    "# Sin embargo un gráfico de línea no es tl tipo de gráfico correcto ya que implica una continuidad entre las posiciones las cuales son inherentemente categóricas nominales\n",
    "df_fifa[\"Preferred Positions\"].value_counts().plot()"
   ]
  },
  {
   "cell_type": "code",
   "execution_count": 26,
   "metadata": {},
   "outputs": [
    {
     "data": {
      "text/plain": [
       "<matplotlib.axes._subplots.AxesSubplot at 0x7ffb62855f90>"
      ]
     },
     "execution_count": 26,
     "metadata": {},
     "output_type": "execute_result"
    },
    {
     "data": {
      "image/png": "[encoded data removed]",
      "text/plain": [
       "<Figure size 432x288 with 1 Axes>"
      ]
     },
     "metadata": {
      "needs_background": "light"
     },
     "output_type": "display_data"
    }
   ],
   "source": [
    "# Pintando de nuevo la frecuencia de las posiciones utilizando un gráfico de barras como una mejor alternativa de visualización\n",
    "df_fifa[\"Preferred Positions\"].value_counts().plot(kind = \"bar\")"
   ]
  },
  {
   "cell_type": "code",
   "execution_count": 27,
   "metadata": {},
   "outputs": [
    {
     "data": {
      "text/html": [
       "<div>\n",
       "<style scoped>\n",
       "    .dataframe tbody tr th:only-of-type {\n",
       "        vertical-align: middle;\n",
       "    }\n",
       "\n",
       "    .dataframe tbody tr th {\n",
       "        vertical-align: top;\n",
       "    }\n",
       "\n",
       "    .dataframe thead th {\n",
       "        text-align: right;\n",
       "    }\n",
       "</style>\n",
       "<table border=\"1\" class=\"dataframe\">\n",
       "  <thead>\n",
       "    <tr style=\"text-align: right;\">\n",
       "      <th></th>\n",
       "      <th>Preferred Positions</th>\n",
       "      <th>Preferred Positions</th>\n",
       "    </tr>\n",
       "  </thead>\n",
       "  <tbody>\n",
       "    <tr>\n",
       "      <th>CB</th>\n",
       "      <td>2705</td>\n",
       "      <td>0.150437</td>\n",
       "    </tr>\n",
       "    <tr>\n",
       "      <th>ST</th>\n",
       "      <td>2277</td>\n",
       "      <td>0.126634</td>\n",
       "    </tr>\n",
       "    <tr>\n",
       "      <th>GK</th>\n",
       "      <td>2029</td>\n",
       "      <td>0.112841</td>\n",
       "    </tr>\n",
       "    <tr>\n",
       "      <th>CM</th>\n",
       "      <td>1977</td>\n",
       "      <td>0.109949</td>\n",
       "    </tr>\n",
       "    <tr>\n",
       "      <th>CDM</th>\n",
       "      <td>1396</td>\n",
       "      <td>0.077638</td>\n",
       "    </tr>\n",
       "    <tr>\n",
       "      <th>RM</th>\n",
       "      <td>1350</td>\n",
       "      <td>0.075079</td>\n",
       "    </tr>\n",
       "    <tr>\n",
       "      <th>LM</th>\n",
       "      <td>1326</td>\n",
       "      <td>0.073745</td>\n",
       "    </tr>\n",
       "    <tr>\n",
       "      <th>LB</th>\n",
       "      <td>1309</td>\n",
       "      <td>0.072799</td>\n",
       "    </tr>\n",
       "    <tr>\n",
       "      <th>RB</th>\n",
       "      <td>1195</td>\n",
       "      <td>0.066459</td>\n",
       "    </tr>\n",
       "    <tr>\n",
       "      <th>CAM</th>\n",
       "      <td>1125</td>\n",
       "      <td>0.062566</td>\n",
       "    </tr>\n",
       "    <tr>\n",
       "      <th>RW</th>\n",
       "      <td>429</td>\n",
       "      <td>0.023859</td>\n",
       "    </tr>\n",
       "    <tr>\n",
       "      <th>LW</th>\n",
       "      <td>427</td>\n",
       "      <td>0.023747</td>\n",
       "    </tr>\n",
       "    <tr>\n",
       "      <th>CF</th>\n",
       "      <td>205</td>\n",
       "      <td>0.011401</td>\n",
       "    </tr>\n",
       "    <tr>\n",
       "      <th>LWB</th>\n",
       "      <td>120</td>\n",
       "      <td>0.006674</td>\n",
       "    </tr>\n",
       "    <tr>\n",
       "      <th>RWB</th>\n",
       "      <td>111</td>\n",
       "      <td>0.006173</td>\n",
       "    </tr>\n",
       "  </tbody>\n",
       "</table>\n",
       "</div>"
      ],
      "text/plain": [
       "     Preferred Positions  Preferred Positions\n",
       "CB                  2705             0.150437\n",
       "ST                  2277             0.126634\n",
       "GK                  2029             0.112841\n",
       "CM                  1977             0.109949\n",
       "CDM                 1396             0.077638\n",
       "RM                  1350             0.075079\n",
       "LM                  1326             0.073745\n",
       "LB                  1309             0.072799\n",
       "RB                  1195             0.066459\n",
       "CAM                 1125             0.062566\n",
       "RW                   429             0.023859\n",
       "LW                   427             0.023747\n",
       "CF                   205             0.011401\n",
       "LWB                  120             0.006674\n",
       "RWB                  111             0.006173"
      ]
     },
     "execution_count": 27,
     "metadata": {},
     "output_type": "execute_result"
    }
   ],
   "source": [
    "# Complementando la tabla de frecuencias agregando la frecuencia relativa de cada posición\n",
    "rel_frecuency = df_fifa[\"Preferred Positions\"].value_counts(normalize = True).to_frame()\n",
    "pd.concat([abs_frecuency, rel_frecuency], axis = 1)"
   ]
  },
  {
   "cell_type": "markdown",
   "metadata": {},
   "source": [
    "### Análisis bivariado sobre las columnas *Value* y *Age*"
   ]
  },
  {
   "cell_type": "code",
   "execution_count": 28,
   "metadata": {},
   "outputs": [
    {
     "data": {
      "image/png": "[encoded data removed]",
      "text/plain": [
       "<Figure size 432x288 with 1 Axes>"
      ]
     },
     "metadata": {
      "needs_background": "light"
     },
     "output_type": "display_data"
    }
   ],
   "source": [
    "# Graficando la relación entre la edad y el valor del jugador\n",
    "plt.scatter(df_fifa[\"Age\"], df_fifa[\"Value\"],alpha = 0.5)\n",
    "plt.title(\"Age vs. Value\")\n",
    "plt.xlabel(\"Age\")\n",
    "plt.ylabel(\"Value\")\n",
    "plt.show()"
   ]
  },
  {
   "cell_type": "code",
   "execution_count": 29,
   "metadata": {},
   "outputs": [
    {
     "data": {
      "text/html": [
       "<div>\n",
       "<style scoped>\n",
       "    .dataframe tbody tr th:only-of-type {\n",
       "        vertical-align: middle;\n",
       "    }\n",
       "\n",
       "    .dataframe tbody tr th {\n",
       "        vertical-align: top;\n",
       "    }\n",
       "\n",
       "    .dataframe thead th {\n",
       "        text-align: right;\n",
       "    }\n",
       "</style>\n",
       "<table border=\"1\" class=\"dataframe\">\n",
       "  <thead>\n",
       "    <tr style=\"text-align: right;\">\n",
       "      <th></th>\n",
       "      <th>Age</th>\n",
       "      <th>Value</th>\n",
       "    </tr>\n",
       "  </thead>\n",
       "  <tbody>\n",
       "    <tr>\n",
       "      <th>Age</th>\n",
       "      <td>1.000000</td>\n",
       "      <td>0.079309</td>\n",
       "    </tr>\n",
       "    <tr>\n",
       "      <th>Value</th>\n",
       "      <td>0.079309</td>\n",
       "      <td>1.000000</td>\n",
       "    </tr>\n",
       "  </tbody>\n",
       "</table>\n",
       "</div>"
      ],
      "text/plain": [
       "            Age     Value\n",
       "Age    1.000000  0.079309\n",
       "Value  0.079309  1.000000"
      ]
     },
     "execution_count": 29,
     "metadata": {},
     "output_type": "execute_result"
    }
   ],
   "source": [
    "# Calculando la correlación (lineal) entre las dos variables\n",
    "df_fifa[[\"Age\", \"Value\"]].corr()"
   ]
  },
  {
   "cell_type": "code",
   "execution_count": 30,
   "metadata": {},
   "outputs": [
    {
     "data": {
      "text/html": [
       "<div>\n",
       "<style scoped>\n",
       "    .dataframe tbody tr th:only-of-type {\n",
       "        vertical-align: middle;\n",
       "    }\n",
       "\n",
       "    .dataframe tbody tr th {\n",
       "        vertical-align: top;\n",
       "    }\n",
       "\n",
       "    .dataframe thead th {\n",
       "        text-align: right;\n",
       "    }\n",
       "</style>\n",
       "<table border=\"1\" class=\"dataframe\">\n",
       "  <thead>\n",
       "    <tr style=\"text-align: right;\">\n",
       "      <th></th>\n",
       "      <th>Age</th>\n",
       "      <th>Value</th>\n",
       "    </tr>\n",
       "  </thead>\n",
       "  <tbody>\n",
       "    <tr>\n",
       "      <th>Age</th>\n",
       "      <td>1.000000</td>\n",
       "      <td>0.227658</td>\n",
       "    </tr>\n",
       "    <tr>\n",
       "      <th>Value</th>\n",
       "      <td>0.227658</td>\n",
       "      <td>1.000000</td>\n",
       "    </tr>\n",
       "  </tbody>\n",
       "</table>\n",
       "</div>"
      ],
      "text/plain": [
       "            Age     Value\n",
       "Age    1.000000  0.227658\n",
       "Value  0.227658  1.000000"
      ]
     },
     "execution_count": 30,
     "metadata": {},
     "output_type": "execute_result"
    }
   ],
   "source": [
    "# Calculando la correlación (monótona) entre las dos variables\n",
    "df_fifa[[\"Age\", \"Value\"]].corr(\"spearman\")"
   ]
  },
  {
   "cell_type": "markdown",
   "metadata": {},
   "source": [
    "### Análisis bivariado sobre las columnas *Value* y *Overall*"
   ]
  },
  {
   "cell_type": "code",
   "execution_count": 31,
   "metadata": {},
   "outputs": [
    {
     "data": {
      "image/png": "[encoded data removed]",
      "text/plain": [
       "<Figure size 432x288 with 1 Axes>"
      ]
     },
     "metadata": {
      "needs_background": "light"
     },
     "output_type": "display_data"
    }
   ],
   "source": [
    "# Graficando la relación entre la edad y el valor del jugador\n",
    "plt.scatter(df_fifa[\"Overall\"], df_fifa[\"Value\"],alpha = 0.5)\n",
    "plt.title(\"Overall vs. Value\")\n",
    "plt.xlabel(\"Overall\")\n",
    "plt.ylabel(\"Value\")\n",
    "plt.show()"
   ]
  },
  {
   "cell_type": "code",
   "execution_count": 32,
   "metadata": {},
   "outputs": [
    {
     "data": {
      "text/html": [
       "<div>\n",
       "<style scoped>\n",
       "    .dataframe tbody tr th:only-of-type {\n",
       "        vertical-align: middle;\n",
       "    }\n",
       "\n",
       "    .dataframe tbody tr th {\n",
       "        vertical-align: top;\n",
       "    }\n",
       "\n",
       "    .dataframe thead th {\n",
       "        text-align: right;\n",
       "    }\n",
       "</style>\n",
       "<table border=\"1\" class=\"dataframe\">\n",
       "  <thead>\n",
       "    <tr style=\"text-align: right;\">\n",
       "      <th></th>\n",
       "      <th>Overall</th>\n",
       "      <th>Value</th>\n",
       "    </tr>\n",
       "  </thead>\n",
       "  <tbody>\n",
       "    <tr>\n",
       "      <th>Overall</th>\n",
       "      <td>1.000000</td>\n",
       "      <td>0.626001</td>\n",
       "    </tr>\n",
       "    <tr>\n",
       "      <th>Value</th>\n",
       "      <td>0.626001</td>\n",
       "      <td>1.000000</td>\n",
       "    </tr>\n",
       "  </tbody>\n",
       "</table>\n",
       "</div>"
      ],
      "text/plain": [
       "          Overall     Value\n",
       "Overall  1.000000  0.626001\n",
       "Value    0.626001  1.000000"
      ]
     },
     "execution_count": 32,
     "metadata": {},
     "output_type": "execute_result"
    }
   ],
   "source": [
    "# Calculando la correlación (lineal) entre las dos variables\n",
    "df_fifa[[\"Overall\", \"Value\"]].corr()"
   ]
  },
  {
   "cell_type": "code",
   "execution_count": 33,
   "metadata": {},
   "outputs": [
    {
     "data": {
      "text/html": [
       "<div>\n",
       "<style scoped>\n",
       "    .dataframe tbody tr th:only-of-type {\n",
       "        vertical-align: middle;\n",
       "    }\n",
       "\n",
       "    .dataframe tbody tr th {\n",
       "        vertical-align: top;\n",
       "    }\n",
       "\n",
       "    .dataframe thead th {\n",
       "        text-align: right;\n",
       "    }\n",
       "</style>\n",
       "<table border=\"1\" class=\"dataframe\">\n",
       "  <thead>\n",
       "    <tr style=\"text-align: right;\">\n",
       "      <th></th>\n",
       "      <th>Overall</th>\n",
       "      <th>Value</th>\n",
       "    </tr>\n",
       "  </thead>\n",
       "  <tbody>\n",
       "    <tr>\n",
       "      <th>Overall</th>\n",
       "      <td>1.000000</td>\n",
       "      <td>0.912146</td>\n",
       "    </tr>\n",
       "    <tr>\n",
       "      <th>Value</th>\n",
       "      <td>0.912146</td>\n",
       "      <td>1.000000</td>\n",
       "    </tr>\n",
       "  </tbody>\n",
       "</table>\n",
       "</div>"
      ],
      "text/plain": [
       "          Overall     Value\n",
       "Overall  1.000000  0.912146\n",
       "Value    0.912146  1.000000"
      ]
     },
     "execution_count": 33,
     "metadata": {},
     "output_type": "execute_result"
    }
   ],
   "source": [
    "# Calculando la correlación (monótona) entre las dos variables\n",
    "df_fifa[[\"Overall\", \"Value\"]].corr(\"spearman\")"
   ]
  },
  {
   "cell_type": "markdown",
   "metadata": {},
   "source": [
    "### Análisis multivariado, comparación entre categorías"
   ]
  },
  {
   "cell_type": "code",
   "execution_count": 34,
   "metadata": {},
   "outputs": [
    {
     "data": {
      "text/html": [
       "<div>\n",
       "<style scoped>\n",
       "    .dataframe tbody tr th:only-of-type {\n",
       "        vertical-align: middle;\n",
       "    }\n",
       "\n",
       "    .dataframe tbody tr th {\n",
       "        vertical-align: top;\n",
       "    }\n",
       "\n",
       "    .dataframe thead th {\n",
       "        text-align: right;\n",
       "    }\n",
       "</style>\n",
       "<table border=\"1\" class=\"dataframe\">\n",
       "  <thead>\n",
       "    <tr style=\"text-align: right;\">\n",
       "      <th></th>\n",
       "      <th>Name</th>\n",
       "      <th>Age</th>\n",
       "      <th>Nationality</th>\n",
       "      <th>Overall</th>\n",
       "      <th>Club</th>\n",
       "      <th>Value</th>\n",
       "      <th>Preferred Positions</th>\n",
       "    </tr>\n",
       "  </thead>\n",
       "  <tbody>\n",
       "    <tr>\n",
       "      <th>0</th>\n",
       "      <td>Cristiano Ronaldo</td>\n",
       "      <td>32</td>\n",
       "      <td>Portugal</td>\n",
       "      <td>94</td>\n",
       "      <td>Real Madrid CF</td>\n",
       "      <td>95500000.0</td>\n",
       "      <td>ST</td>\n",
       "    </tr>\n",
       "    <tr>\n",
       "      <th>8</th>\n",
       "      <td>T. Kroos</td>\n",
       "      <td>27</td>\n",
       "      <td>Germany</td>\n",
       "      <td>90</td>\n",
       "      <td>Real Madrid CF</td>\n",
       "      <td>79000000.0</td>\n",
       "      <td>CDM</td>\n",
       "    </tr>\n",
       "    <tr>\n",
       "      <th>10</th>\n",
       "      <td>Sergio Ramos</td>\n",
       "      <td>31</td>\n",
       "      <td>Spain</td>\n",
       "      <td>90</td>\n",
       "      <td>Real Madrid CF</td>\n",
       "      <td>52000000.0</td>\n",
       "      <td>CB</td>\n",
       "    </tr>\n",
       "    <tr>\n",
       "      <th>14</th>\n",
       "      <td>L. Modrić</td>\n",
       "      <td>31</td>\n",
       "      <td>Croatia</td>\n",
       "      <td>89</td>\n",
       "      <td>Real Madrid CF</td>\n",
       "      <td>57000000.0</td>\n",
       "      <td>CDM</td>\n",
       "    </tr>\n",
       "    <tr>\n",
       "      <th>15</th>\n",
       "      <td>G. Bale</td>\n",
       "      <td>27</td>\n",
       "      <td>Wales</td>\n",
       "      <td>89</td>\n",
       "      <td>Real Madrid CF</td>\n",
       "      <td>69500000.0</td>\n",
       "      <td>RW</td>\n",
       "    </tr>\n",
       "  </tbody>\n",
       "</table>\n",
       "</div>"
      ],
      "text/plain": [
       "                 Name  Age Nationality  Overall            Club       Value  \\\n",
       "0   Cristiano Ronaldo   32    Portugal       94  Real Madrid CF  95500000.0   \n",
       "8            T. Kroos   27     Germany       90  Real Madrid CF  79000000.0   \n",
       "10       Sergio Ramos   31       Spain       90  Real Madrid CF  52000000.0   \n",
       "14          L. Modrić   31     Croatia       89  Real Madrid CF  57000000.0   \n",
       "15            G. Bale   27       Wales       89  Real Madrid CF  69500000.0   \n",
       "\n",
       "   Preferred Positions  \n",
       "0                   ST  \n",
       "8                  CDM  \n",
       "10                  CB  \n",
       "14                 CDM  \n",
       "15                  RW  "
      ]
     },
     "execution_count": 34,
     "metadata": {},
     "output_type": "execute_result"
    }
   ],
   "source": [
    "# Filtrando los jugadores del Real Madrid\n",
    "df_real_madrid = df_fifa.loc[df_fifa[\"Club\"] == \"Real Madrid CF\"]\n",
    "df_real_madrid.head()"
   ]
  },
  {
   "cell_type": "code",
   "execution_count": 35,
   "metadata": {},
   "outputs": [
    {
     "data": {
      "text/html": [
       "<div>\n",
       "<style scoped>\n",
       "    .dataframe tbody tr th:only-of-type {\n",
       "        vertical-align: middle;\n",
       "    }\n",
       "\n",
       "    .dataframe tbody tr th {\n",
       "        vertical-align: top;\n",
       "    }\n",
       "\n",
       "    .dataframe thead th {\n",
       "        text-align: right;\n",
       "    }\n",
       "</style>\n",
       "<table border=\"1\" class=\"dataframe\">\n",
       "  <thead>\n",
       "    <tr style=\"text-align: right;\">\n",
       "      <th></th>\n",
       "      <th>Name</th>\n",
       "      <th>Age</th>\n",
       "      <th>Nationality</th>\n",
       "      <th>Overall</th>\n",
       "      <th>Club</th>\n",
       "      <th>Value</th>\n",
       "      <th>Preferred Positions</th>\n",
       "    </tr>\n",
       "  </thead>\n",
       "  <tbody>\n",
       "    <tr>\n",
       "      <th>1860</th>\n",
       "      <td>W. Tesillo</td>\n",
       "      <td>27</td>\n",
       "      <td>Colombia</td>\n",
       "      <td>75</td>\n",
       "      <td>Independiente Santa Fe</td>\n",
       "      <td>6500000.0</td>\n",
       "      <td>CB</td>\n",
       "    </tr>\n",
       "    <tr>\n",
       "      <th>2399</th>\n",
       "      <td>A. Plata</td>\n",
       "      <td>26</td>\n",
       "      <td>Colombia</td>\n",
       "      <td>74</td>\n",
       "      <td>Independiente Santa Fe</td>\n",
       "      <td>7000000.0</td>\n",
       "      <td>ST</td>\n",
       "    </tr>\n",
       "    <tr>\n",
       "      <th>3087</th>\n",
       "      <td>L. Castellanos</td>\n",
       "      <td>33</td>\n",
       "      <td>Colombia</td>\n",
       "      <td>73</td>\n",
       "      <td>Independiente Santa Fe</td>\n",
       "      <td>2000000.0</td>\n",
       "      <td>GK</td>\n",
       "    </tr>\n",
       "    <tr>\n",
       "      <th>3424</th>\n",
       "      <td>D. Buitrago</td>\n",
       "      <td>26</td>\n",
       "      <td>Colombia</td>\n",
       "      <td>72</td>\n",
       "      <td>Independiente Santa Fe</td>\n",
       "      <td>3900000.0</td>\n",
       "      <td>CAM</td>\n",
       "    </tr>\n",
       "    <tr>\n",
       "      <th>3437</th>\n",
       "      <td>O. Pérez</td>\n",
       "      <td>36</td>\n",
       "      <td>Argentina</td>\n",
       "      <td>72</td>\n",
       "      <td>Independiente Santa Fe</td>\n",
       "      <td>1000000.0</td>\n",
       "      <td>CAM</td>\n",
       "    </tr>\n",
       "  </tbody>\n",
       "</table>\n",
       "</div>"
      ],
      "text/plain": [
       "                Name  Age Nationality  Overall                    Club  \\\n",
       "1860      W. Tesillo   27    Colombia       75  Independiente Santa Fe   \n",
       "2399        A. Plata   26    Colombia       74  Independiente Santa Fe   \n",
       "3087  L. Castellanos   33    Colombia       73  Independiente Santa Fe   \n",
       "3424     D. Buitrago   26    Colombia       72  Independiente Santa Fe   \n",
       "3437        O. Pérez   36   Argentina       72  Independiente Santa Fe   \n",
       "\n",
       "          Value Preferred Positions  \n",
       "1860  6500000.0                  CB  \n",
       "2399  7000000.0                  ST  \n",
       "3087  2000000.0                  GK  \n",
       "3424  3900000.0                 CAM  \n",
       "3437  1000000.0                 CAM  "
      ]
     },
     "execution_count": 35,
     "metadata": {},
     "output_type": "execute_result"
    }
   ],
   "source": [
    "# Filtrando los jugadores de Santa Fe\n",
    "df_santa_fe = df_fifa.loc[df_fifa[\"Club\"] == \"Independiente Santa Fe\"]\n",
    "df_santa_fe.head()"
   ]
  },
  {
   "cell_type": "code",
   "execution_count": 36,
   "metadata": {},
   "outputs": [
    {
     "data": {
      "text/html": [
       "<div>\n",
       "<style scoped>\n",
       "    .dataframe tbody tr th:only-of-type {\n",
       "        vertical-align: middle;\n",
       "    }\n",
       "\n",
       "    .dataframe tbody tr th {\n",
       "        vertical-align: top;\n",
       "    }\n",
       "\n",
       "    .dataframe thead th {\n",
       "        text-align: right;\n",
       "    }\n",
       "</style>\n",
       "<table border=\"1\" class=\"dataframe\">\n",
       "  <thead>\n",
       "    <tr style=\"text-align: right;\">\n",
       "      <th></th>\n",
       "      <th>Name</th>\n",
       "      <th>Age</th>\n",
       "      <th>Nationality</th>\n",
       "      <th>Overall</th>\n",
       "      <th>Club</th>\n",
       "      <th>Value</th>\n",
       "      <th>Preferred Positions</th>\n",
       "    </tr>\n",
       "  </thead>\n",
       "  <tbody>\n",
       "    <tr>\n",
       "      <th>2165</th>\n",
       "      <td>N. Vikonis</td>\n",
       "      <td>33</td>\n",
       "      <td>Uruguay</td>\n",
       "      <td>74</td>\n",
       "      <td>CD Los Millionarios Bogota</td>\n",
       "      <td>2800000.0</td>\n",
       "      <td>GK</td>\n",
       "    </tr>\n",
       "    <tr>\n",
       "      <th>2909</th>\n",
       "      <td>D. Silva</td>\n",
       "      <td>30</td>\n",
       "      <td>Colombia</td>\n",
       "      <td>73</td>\n",
       "      <td>CD Los Millionarios Bogota</td>\n",
       "      <td>3700000.0</td>\n",
       "      <td>CDM</td>\n",
       "    </tr>\n",
       "    <tr>\n",
       "      <th>3137</th>\n",
       "      <td>A. del Valle</td>\n",
       "      <td>28</td>\n",
       "      <td>Colombia</td>\n",
       "      <td>73</td>\n",
       "      <td>CD Los Millionarios Bogota</td>\n",
       "      <td>4100000.0</td>\n",
       "      <td>ST</td>\n",
       "    </tr>\n",
       "    <tr>\n",
       "      <th>3412</th>\n",
       "      <td>D. Riascos</td>\n",
       "      <td>31</td>\n",
       "      <td>Colombia</td>\n",
       "      <td>72</td>\n",
       "      <td>CD Los Millionarios Bogota</td>\n",
       "      <td>2800000.0</td>\n",
       "      <td>RW</td>\n",
       "    </tr>\n",
       "    <tr>\n",
       "      <th>3510</th>\n",
       "      <td>A. Cadavid</td>\n",
       "      <td>31</td>\n",
       "      <td>Colombia</td>\n",
       "      <td>72</td>\n",
       "      <td>CD Los Millionarios Bogota</td>\n",
       "      <td>2100000.0</td>\n",
       "      <td>CB</td>\n",
       "    </tr>\n",
       "  </tbody>\n",
       "</table>\n",
       "</div>"
      ],
      "text/plain": [
       "              Name  Age Nationality  Overall                        Club  \\\n",
       "2165    N. Vikonis   33     Uruguay       74  CD Los Millionarios Bogota   \n",
       "2909      D. Silva   30    Colombia       73  CD Los Millionarios Bogota   \n",
       "3137  A. del Valle   28    Colombia       73  CD Los Millionarios Bogota   \n",
       "3412    D. Riascos   31    Colombia       72  CD Los Millionarios Bogota   \n",
       "3510    A. Cadavid   31    Colombia       72  CD Los Millionarios Bogota   \n",
       "\n",
       "          Value Preferred Positions  \n",
       "2165  2800000.0                  GK  \n",
       "2909  3700000.0                 CDM  \n",
       "3137  4100000.0                  ST  \n",
       "3412  2800000.0                  RW  \n",
       "3510  2100000.0                  CB  "
      ]
     },
     "execution_count": 36,
     "metadata": {},
     "output_type": "execute_result"
    }
   ],
   "source": [
    "# Filtrando los jugadores de Millonarios\n",
    "df_millonarios = df_fifa.loc[df_fifa[\"Club\"] == \"CD Los Millionarios Bogota\"]\n",
    "df_millonarios.head()"
   ]
  },
  {
   "cell_type": "code",
   "execution_count": 37,
   "metadata": {},
   "outputs": [
    {
     "data": {
      "text/html": [
       "<div>\n",
       "<style scoped>\n",
       "    .dataframe tbody tr th:only-of-type {\n",
       "        vertical-align: middle;\n",
       "    }\n",
       "\n",
       "    .dataframe tbody tr th {\n",
       "        vertical-align: top;\n",
       "    }\n",
       "\n",
       "    .dataframe thead th {\n",
       "        text-align: right;\n",
       "    }\n",
       "</style>\n",
       "<table border=\"1\" class=\"dataframe\">\n",
       "  <thead>\n",
       "    <tr style=\"text-align: right;\">\n",
       "      <th></th>\n",
       "      <th>Real Madrid</th>\n",
       "      <th>Santa Fe</th>\n",
       "      <th>Millonarios</th>\n",
       "    </tr>\n",
       "  </thead>\n",
       "  <tbody>\n",
       "    <tr>\n",
       "      <th>count</th>\n",
       "      <td>26.000000</td>\n",
       "      <td>28.000000</td>\n",
       "      <td>28.000000</td>\n",
       "    </tr>\n",
       "    <tr>\n",
       "      <th>mean</th>\n",
       "      <td>24.576923</td>\n",
       "      <td>27.214286</td>\n",
       "      <td>25.607143</td>\n",
       "    </tr>\n",
       "    <tr>\n",
       "      <th>std</th>\n",
       "      <td>4.464734</td>\n",
       "      <td>4.629672</td>\n",
       "      <td>4.848362</td>\n",
       "    </tr>\n",
       "    <tr>\n",
       "      <th>min</th>\n",
       "      <td>18.000000</td>\n",
       "      <td>19.000000</td>\n",
       "      <td>17.000000</td>\n",
       "    </tr>\n",
       "    <tr>\n",
       "      <th>25%</th>\n",
       "      <td>20.000000</td>\n",
       "      <td>24.000000</td>\n",
       "      <td>21.000000</td>\n",
       "    </tr>\n",
       "    <tr>\n",
       "      <th>50%</th>\n",
       "      <td>25.000000</td>\n",
       "      <td>26.500000</td>\n",
       "      <td>27.500000</td>\n",
       "    </tr>\n",
       "    <tr>\n",
       "      <th>75%</th>\n",
       "      <td>28.500000</td>\n",
       "      <td>30.250000</td>\n",
       "      <td>29.250000</td>\n",
       "    </tr>\n",
       "    <tr>\n",
       "      <th>max</th>\n",
       "      <td>32.000000</td>\n",
       "      <td>38.000000</td>\n",
       "      <td>33.000000</td>\n",
       "    </tr>\n",
       "  </tbody>\n",
       "</table>\n",
       "</div>"
      ],
      "text/plain": [
       "       Real Madrid   Santa Fe  Millonarios\n",
       "count    26.000000  28.000000    28.000000\n",
       "mean     24.576923  27.214286    25.607143\n",
       "std       4.464734   4.629672     4.848362\n",
       "min      18.000000  19.000000    17.000000\n",
       "25%      20.000000  24.000000    21.000000\n",
       "50%      25.000000  26.500000    27.500000\n",
       "75%      28.500000  30.250000    29.250000\n",
       "max      32.000000  38.000000    33.000000"
      ]
     },
     "execution_count": 37,
     "metadata": {},
     "output_type": "execute_result"
    }
   ],
   "source": [
    "# Comparando las edades entre diferentes clubes\n",
    "pd.concat([\n",
    "    df_real_madrid[\"Age\"].describe().to_frame().rename(columns = {\"Age\": \"Real Madrid\"}),\n",
    "    df_santa_fe[\"Age\"].describe().to_frame().rename(columns = {\"Age\": \"Santa Fe\"}),\n",
    "    df_millonarios[\"Age\"].describe().to_frame().rename(columns = {\"Age\": \"Millonarios\"})\n",
    "], axis = 1)"
   ]
  },
  {
   "cell_type": "code",
   "execution_count": 38,
   "metadata": {},
   "outputs": [
    {
     "data": {
      "text/html": [
       "<div>\n",
       "<style scoped>\n",
       "    .dataframe tbody tr th:only-of-type {\n",
       "        vertical-align: middle;\n",
       "    }\n",
       "\n",
       "    .dataframe tbody tr th {\n",
       "        vertical-align: top;\n",
       "    }\n",
       "\n",
       "    .dataframe thead th {\n",
       "        text-align: right;\n",
       "    }\n",
       "</style>\n",
       "<table border=\"1\" class=\"dataframe\">\n",
       "  <thead>\n",
       "    <tr style=\"text-align: right;\">\n",
       "      <th></th>\n",
       "      <th>Real Madrid</th>\n",
       "      <th>Santa Fe</th>\n",
       "      <th>Millonarios</th>\n",
       "    </tr>\n",
       "  </thead>\n",
       "  <tbody>\n",
       "    <tr>\n",
       "      <th>count</th>\n",
       "      <td>26.000000</td>\n",
       "      <td>28.000000</td>\n",
       "      <td>28.000000</td>\n",
       "    </tr>\n",
       "    <tr>\n",
       "      <th>mean</th>\n",
       "      <td>81.038462</td>\n",
       "      <td>69.428571</td>\n",
       "      <td>66.107143</td>\n",
       "    </tr>\n",
       "    <tr>\n",
       "      <th>std</th>\n",
       "      <td>7.886600</td>\n",
       "      <td>3.011442</td>\n",
       "      <td>5.645971</td>\n",
       "    </tr>\n",
       "    <tr>\n",
       "      <th>min</th>\n",
       "      <td>64.000000</td>\n",
       "      <td>61.000000</td>\n",
       "      <td>53.000000</td>\n",
       "    </tr>\n",
       "    <tr>\n",
       "      <th>25%</th>\n",
       "      <td>77.000000</td>\n",
       "      <td>68.000000</td>\n",
       "      <td>64.250000</td>\n",
       "    </tr>\n",
       "    <tr>\n",
       "      <th>50%</th>\n",
       "      <td>83.000000</td>\n",
       "      <td>69.000000</td>\n",
       "      <td>67.000000</td>\n",
       "    </tr>\n",
       "    <tr>\n",
       "      <th>75%</th>\n",
       "      <td>86.000000</td>\n",
       "      <td>72.000000</td>\n",
       "      <td>69.500000</td>\n",
       "    </tr>\n",
       "    <tr>\n",
       "      <th>max</th>\n",
       "      <td>94.000000</td>\n",
       "      <td>75.000000</td>\n",
       "      <td>74.000000</td>\n",
       "    </tr>\n",
       "  </tbody>\n",
       "</table>\n",
       "</div>"
      ],
      "text/plain": [
       "       Real Madrid   Santa Fe  Millonarios\n",
       "count    26.000000  28.000000    28.000000\n",
       "mean     81.038462  69.428571    66.107143\n",
       "std       7.886600   3.011442     5.645971\n",
       "min      64.000000  61.000000    53.000000\n",
       "25%      77.000000  68.000000    64.250000\n",
       "50%      83.000000  69.000000    67.000000\n",
       "75%      86.000000  72.000000    69.500000\n",
       "max      94.000000  75.000000    74.000000"
      ]
     },
     "execution_count": 38,
     "metadata": {},
     "output_type": "execute_result"
    }
   ],
   "source": [
    "# Comparando el overall entre diferentes clubes\n",
    "pd.concat([\n",
    "    df_real_madrid[\"Overall\"].describe().to_frame().rename(columns = {\"Overall\": \"Real Madrid\"}),\n",
    "    df_santa_fe[\"Overall\"].describe().to_frame().rename(columns = {\"Overall\": \"Santa Fe\"}),\n",
    "    df_millonarios[\"Overall\"].describe().to_frame().rename(columns = {\"Overall\": \"Millonarios\"})\n",
    "], axis = 1)"
   ]
  },
  {
   "cell_type": "code",
   "execution_count": 39,
   "metadata": {},
   "outputs": [
    {
     "data": {
      "text/html": [
       "<div>\n",
       "<style scoped>\n",
       "    .dataframe tbody tr th:only-of-type {\n",
       "        vertical-align: middle;\n",
       "    }\n",
       "\n",
       "    .dataframe tbody tr th {\n",
       "        vertical-align: top;\n",
       "    }\n",
       "\n",
       "    .dataframe thead th {\n",
       "        text-align: right;\n",
       "    }\n",
       "</style>\n",
       "<table border=\"1\" class=\"dataframe\">\n",
       "  <thead>\n",
       "    <tr style=\"text-align: right;\">\n",
       "      <th></th>\n",
       "      <th>Real Madrid</th>\n",
       "      <th>Santa Fe</th>\n",
       "      <th>Millonarios</th>\n",
       "    </tr>\n",
       "  </thead>\n",
       "  <tbody>\n",
       "    <tr>\n",
       "      <th>count</th>\n",
       "      <td>2.600000e+01</td>\n",
       "      <td>2.800000e+01</td>\n",
       "      <td>2.800000e+01</td>\n",
       "    </tr>\n",
       "    <tr>\n",
       "      <th>mean</th>\n",
       "      <td>3.179615e+07</td>\n",
       "      <td>1.982679e+06</td>\n",
       "      <td>1.220893e+06</td>\n",
       "    </tr>\n",
       "    <tr>\n",
       "      <th>std</th>\n",
       "      <td>2.591294e+07</td>\n",
       "      <td>1.796272e+06</td>\n",
       "      <td>1.115543e+06</td>\n",
       "    </tr>\n",
       "    <tr>\n",
       "      <th>min</th>\n",
       "      <td>5.000000e+05</td>\n",
       "      <td>7.000000e+04</td>\n",
       "      <td>1.000000e+05</td>\n",
       "    </tr>\n",
       "    <tr>\n",
       "      <th>25%</th>\n",
       "      <td>1.000000e+07</td>\n",
       "      <td>8.875000e+05</td>\n",
       "      <td>4.125000e+05</td>\n",
       "    </tr>\n",
       "    <tr>\n",
       "      <th>50%</th>\n",
       "      <td>2.800000e+07</td>\n",
       "      <td>1.150000e+06</td>\n",
       "      <td>8.750000e+05</td>\n",
       "    </tr>\n",
       "    <tr>\n",
       "      <th>75%</th>\n",
       "      <td>4.637500e+07</td>\n",
       "      <td>2.700000e+06</td>\n",
       "      <td>1.725000e+06</td>\n",
       "    </tr>\n",
       "    <tr>\n",
       "      <th>max</th>\n",
       "      <td>9.550000e+07</td>\n",
       "      <td>7.000000e+06</td>\n",
       "      <td>4.100000e+06</td>\n",
       "    </tr>\n",
       "  </tbody>\n",
       "</table>\n",
       "</div>"
      ],
      "text/plain": [
       "        Real Madrid      Santa Fe   Millonarios\n",
       "count  2.600000e+01  2.800000e+01  2.800000e+01\n",
       "mean   3.179615e+07  1.982679e+06  1.220893e+06\n",
       "std    2.591294e+07  1.796272e+06  1.115543e+06\n",
       "min    5.000000e+05  7.000000e+04  1.000000e+05\n",
       "25%    1.000000e+07  8.875000e+05  4.125000e+05\n",
       "50%    2.800000e+07  1.150000e+06  8.750000e+05\n",
       "75%    4.637500e+07  2.700000e+06  1.725000e+06\n",
       "max    9.550000e+07  7.000000e+06  4.100000e+06"
      ]
     },
     "execution_count": 39,
     "metadata": {},
     "output_type": "execute_result"
    }
   ],
   "source": [
    "# Comparando los valores de jugadores entre diferentes clubes\n",
    "pd.concat([\n",
    "    df_real_madrid[\"Value\"].describe().to_frame().rename(columns = {\"Value\": \"Real Madrid\"}),\n",
    "    df_santa_fe[\"Value\"].describe().to_frame().rename(columns = {\"Value\": \"Santa Fe\"}),\n",
    "    df_millonarios[\"Value\"].describe().to_frame().rename(columns = {\"Value\": \"Millonarios\"})\n",
    "], axis = 1)"
   ]
  },
  {
   "cell_type": "code",
   "execution_count": 40,
   "metadata": {},
   "outputs": [
    {
     "data": {
      "text/plain": [
       "<matplotlib.axes._subplots.AxesSubplot at 0x7ffb61523390>"
      ]
     },
     "execution_count": 40,
     "metadata": {},
     "output_type": "execute_result"
    },
    {
     "data": {
      "image/png": "[encoded data removed]",
      "text/plain": [
       "<Figure size 432x288 with 1 Axes>"
      ]
     },
     "metadata": {
      "needs_background": "light"
     },
     "output_type": "display_data"
    }
   ],
   "source": [
    "# Graficando la distribución de valores de jugadores de los clubes colombianos\n",
    "df_box = pd.DataFrame({\"Millonarios\": df_millonarios[\"Value\"], \"Santa Fe\": df_santa_fe[\"Value\"]})\n",
    "df_box.plot.box(title = \"Distribución de los valores de\\nlos jugadores entre grupos\")"
   ]
  },
  {
   "cell_type": "code",
   "execution_count": 41,
   "metadata": {},
   "outputs": [
    {
     "data": {
      "text/plain": [
       "<matplotlib.axes._subplots.AxesSubplot at 0x7ffb616d47d0>"
      ]
     },
     "execution_count": 41,
     "metadata": {},
     "output_type": "execute_result"
    },
    {
     "data": {
      "image/png": "[encoded data removed]",
      "text/plain": [
       "<Figure size 432x288 with 1 Axes>"
      ]
     },
     "metadata": {
      "needs_background": "light"
     },
     "output_type": "display_data"
    }
   ],
   "source": [
    "# Graficando la distribución de valores de jugadores de los clubes colombianos en comparación con el Real Madrid\n",
    "df_box = pd.DataFrame({\"Millonarios\": df_millonarios[\"Value\"], \"Santa Fe\": df_santa_fe[\"Value\"], \"Real Madrid\": df_real_madrid[\"Value\"]})\n",
    "df_box.plot.box(title = \"Distribución de los valores de\\nlos jugadores entre grupos\")"
   ]
  },
  {
   "cell_type": "code",
   "execution_count": null,
   "metadata": {},
   "outputs": [],
   "source": []
  }
 ],
 "metadata": {
  "kernelspec": {
   "display_name": "Python 3",
   "language": "python",
   "name": "python3"
  },
  "language_info": {
   "codemirror_mode": {
    "name": "ipython",
    "version": 3
   },
   "file_extension": ".py",
   "mimetype": "text/x-python",
   "name": "python",
   "nbconvert_exporter": "python",
   "pygments_lexer": "ipython3",
   "version": "3.7.6"
  }
 },
 "nbformat": 4,
 "nbformat_minor": 4
}
