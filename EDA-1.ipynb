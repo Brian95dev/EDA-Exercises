{
 "cells": [
  {
   "cell_type": "markdown",
   "metadata": {},
   "source": [
    "# EDA-1\n",
    "## Dataset: Reporte Delito Terrorismo"
   ]
  },
  {
   "cell_type": "code",
   "execution_count": 1,
   "metadata": {},
   "outputs": [],
   "source": [
    "# Importando todas las librerías requeridas para el análisis\n",
    "\n",
    "import numpy as np\n",
    "import pandas as pd\n",
    "\n",
    "import matplotlib.pyplot as plt\n",
    "%matplotlib inline\n",
    "\n",
    "import scipy.stats"
   ]
  },
  {
   "cell_type": "code",
   "execution_count": 2,
   "metadata": {},
   "outputs": [],
   "source": [
    "# Cargando el archivo commo dataframe\n",
    "df_Terr = pd.read_csv(\"./data/Reporte_Delito_Terrorismo_Polic_a_Nacional.csv\")"
   ]
  },
  {
   "cell_type": "code",
   "execution_count": 3,
   "metadata": {},
   "outputs": [
    {
     "data": {
      "text/plain": [
       "(3687, 6)"
      ]
     },
     "execution_count": 3,
     "metadata": {},
     "output_type": "execute_result"
    }
   ],
   "source": [
    "# Mostrando las dimensiones del dataframe\n",
    "df_Terr.shape"
   ]
  },
  {
   "cell_type": "code",
   "execution_count": 4,
   "metadata": {},
   "outputs": [
    {
     "data": {
      "text/plain": [
       "Departamento    object\n",
       "Municipio       object\n",
       "CODIGO DANE      int64\n",
       "ARMAS MEDIOS    object\n",
       "FECHA HECHO     object\n",
       "CANTIDAD         int64\n",
       "dtype: object"
      ]
     },
     "execution_count": 4,
     "metadata": {},
     "output_type": "execute_result"
    }
   ],
   "source": [
    "# Verificando los tipos de datos de las columnas\n",
    "# Debido a la naturaleza de los datos, el punto 3 y 5 no aplican.\n",
    "df_Terr.dtypes"
   ]
  },
  {
   "cell_type": "code",
   "execution_count": 5,
   "metadata": {},
   "outputs": [
    {
     "data": {
      "text/html": [
       "<div>\n",
       "<style scoped>\n",
       "    .dataframe tbody tr th:only-of-type {\n",
       "        vertical-align: middle;\n",
       "    }\n",
       "\n",
       "    .dataframe tbody tr th {\n",
       "        vertical-align: top;\n",
       "    }\n",
       "\n",
       "    .dataframe thead th {\n",
       "        text-align: right;\n",
       "    }\n",
       "</style>\n",
       "<table border=\"1\" class=\"dataframe\">\n",
       "  <thead>\n",
       "    <tr style=\"text-align: right;\">\n",
       "      <th></th>\n",
       "      <th>Departamento</th>\n",
       "      <th>Municipio</th>\n",
       "      <th>CODIGO DANE</th>\n",
       "      <th>ARMAS MEDIOS</th>\n",
       "      <th>FECHA HECHO</th>\n",
       "      <th>CANTIDAD</th>\n",
       "    </tr>\n",
       "  </thead>\n",
       "  <tbody>\n",
       "    <tr>\n",
       "      <th>0</th>\n",
       "      <td>PUTUMAYO</td>\n",
       "      <td>MOCOA (CT)</td>\n",
       "      <td>86001000</td>\n",
       "      <td>ARTEFACTO EXPLOSIVO/CARGA DINAMITA</td>\n",
       "      <td>05/01/2010</td>\n",
       "      <td>1</td>\n",
       "    </tr>\n",
       "    <tr>\n",
       "      <th>1</th>\n",
       "      <td>ARAUCA</td>\n",
       "      <td>TAME</td>\n",
       "      <td>81794000</td>\n",
       "      <td>ARTEFACTO INCENDIARIO</td>\n",
       "      <td>06/01/2010</td>\n",
       "      <td>1</td>\n",
       "    </tr>\n",
       "    <tr>\n",
       "      <th>2</th>\n",
       "      <td>META</td>\n",
       "      <td>VILLAVICENCIO (CT)</td>\n",
       "      <td>50001000</td>\n",
       "      <td>GRANADA DE MANO</td>\n",
       "      <td>06/01/2010</td>\n",
       "      <td>1</td>\n",
       "    </tr>\n",
       "    <tr>\n",
       "      <th>3</th>\n",
       "      <td>ARAUCA</td>\n",
       "      <td>FORTUL</td>\n",
       "      <td>81300000</td>\n",
       "      <td>CILINDRO BOMBA</td>\n",
       "      <td>07/01/2010</td>\n",
       "      <td>1</td>\n",
       "    </tr>\n",
       "    <tr>\n",
       "      <th>4</th>\n",
       "      <td>META</td>\n",
       "      <td>URIBE</td>\n",
       "      <td>50370000</td>\n",
       "      <td>MINA ANTIPERSONA</td>\n",
       "      <td>11/01/2010</td>\n",
       "      <td>1</td>\n",
       "    </tr>\n",
       "    <tr>\n",
       "      <th>5</th>\n",
       "      <td>PUTUMAYO</td>\n",
       "      <td>MOCOA (CT)</td>\n",
       "      <td>86001000</td>\n",
       "      <td>COMBUSTIBLE</td>\n",
       "      <td>13/01/2010</td>\n",
       "      <td>1</td>\n",
       "    </tr>\n",
       "    <tr>\n",
       "      <th>6</th>\n",
       "      <td>META</td>\n",
       "      <td>PUERTO RICO</td>\n",
       "      <td>50590000</td>\n",
       "      <td>MINA ANTIPERSONA</td>\n",
       "      <td>14/01/2010</td>\n",
       "      <td>1</td>\n",
       "    </tr>\n",
       "    <tr>\n",
       "      <th>7</th>\n",
       "      <td>VALLE</td>\n",
       "      <td>BUENAVENTURA</td>\n",
       "      <td>76109000</td>\n",
       "      <td>OLLA BOMBA</td>\n",
       "      <td>14/01/2010</td>\n",
       "      <td>1</td>\n",
       "    </tr>\n",
       "    <tr>\n",
       "      <th>8</th>\n",
       "      <td>ARAUCA</td>\n",
       "      <td>ARAUQUITA</td>\n",
       "      <td>81065000</td>\n",
       "      <td>ARTEFACTO EXPLOSIVO/CARGA DINAMITA</td>\n",
       "      <td>15/01/2010</td>\n",
       "      <td>1</td>\n",
       "    </tr>\n",
       "    <tr>\n",
       "      <th>9</th>\n",
       "      <td>META</td>\n",
       "      <td>URIBE</td>\n",
       "      <td>50370000</td>\n",
       "      <td>GRANADA DE MANO</td>\n",
       "      <td>15/01/2010</td>\n",
       "      <td>1</td>\n",
       "    </tr>\n",
       "  </tbody>\n",
       "</table>\n",
       "</div>"
      ],
      "text/plain": [
       "  Departamento           Municipio  CODIGO DANE  \\\n",
       "0     PUTUMAYO          MOCOA (CT)     86001000   \n",
       "1       ARAUCA                TAME     81794000   \n",
       "2         META  VILLAVICENCIO (CT)     50001000   \n",
       "3       ARAUCA              FORTUL     81300000   \n",
       "4         META               URIBE     50370000   \n",
       "5     PUTUMAYO          MOCOA (CT)     86001000   \n",
       "6         META         PUERTO RICO     50590000   \n",
       "7        VALLE        BUENAVENTURA     76109000   \n",
       "8       ARAUCA           ARAUQUITA     81065000   \n",
       "9         META               URIBE     50370000   \n",
       "\n",
       "                         ARMAS MEDIOS FECHA HECHO  CANTIDAD  \n",
       "0  ARTEFACTO EXPLOSIVO/CARGA DINAMITA  05/01/2010         1  \n",
       "1               ARTEFACTO INCENDIARIO  06/01/2010         1  \n",
       "2                     GRANADA DE MANO  06/01/2010         1  \n",
       "3                      CILINDRO BOMBA  07/01/2010         1  \n",
       "4                    MINA ANTIPERSONA  11/01/2010         1  \n",
       "5                         COMBUSTIBLE  13/01/2010         1  \n",
       "6                    MINA ANTIPERSONA  14/01/2010         1  \n",
       "7                          OLLA BOMBA  14/01/2010         1  \n",
       "8  ARTEFACTO EXPLOSIVO/CARGA DINAMITA  15/01/2010         1  \n",
       "9                     GRANADA DE MANO  15/01/2010         1  "
      ]
     },
     "execution_count": 5,
     "metadata": {},
     "output_type": "execute_result"
    }
   ],
   "source": [
    "# Imprimiendo los primeros 10 registros\n",
    "df_Terr.head(10)"
   ]
  },
  {
   "cell_type": "markdown",
   "metadata": {},
   "source": [
    "### Conversión de Object a datetime sobre la columna *FECHA HECHO*"
   ]
  },
  {
   "cell_type": "code",
   "execution_count": 6,
   "metadata": {},
   "outputs": [],
   "source": [
    "df_Terr['FECHA HECHO']= pd.to_datetime(df_Terr['FECHA HECHO'], errors='raise', dayfirst=True)"
   ]
  },
  {
   "cell_type": "code",
   "execution_count": 7,
   "metadata": {},
   "outputs": [
    {
     "data": {
      "text/plain": [
       "Departamento            object\n",
       "Municipio               object\n",
       "CODIGO DANE              int64\n",
       "ARMAS MEDIOS            object\n",
       "FECHA HECHO     datetime64[ns]\n",
       "CANTIDAD                 int64\n",
       "dtype: object"
      ]
     },
     "execution_count": 7,
     "metadata": {},
     "output_type": "execute_result"
    }
   ],
   "source": [
    "# Verificando los tipos de datos de las columnas para verificar la conversión\n",
    "df_Terr.dtypes"
   ]
  },
  {
   "cell_type": "markdown",
   "metadata": {},
   "source": [
    "### Eliminación de registros duplicados"
   ]
  },
  {
   "cell_type": "code",
   "execution_count": 8,
   "metadata": {},
   "outputs": [],
   "source": [
    "df_Terr.drop_duplicates(keep=False,inplace=True)"
   ]
  },
  {
   "cell_type": "code",
   "execution_count": 9,
   "metadata": {},
   "outputs": [
    {
     "data": {
      "text/plain": [
       "(3677, 6)"
      ]
     },
     "execution_count": 9,
     "metadata": {},
     "output_type": "execute_result"
    }
   ],
   "source": [
    "df_Terr.shape"
   ]
  },
  {
   "cell_type": "markdown",
   "metadata": {},
   "source": [
    "### Top departamentos más afectados por el delito"
   ]
  },
  {
   "cell_type": "code",
   "execution_count": 10,
   "metadata": {},
   "outputs": [],
   "source": [
    "n_by_dep = df_Terr.groupby(\"Departamento\")[\"CANTIDAD\"].count()"
   ]
  },
  {
   "cell_type": "code",
   "execution_count": 11,
   "metadata": {},
   "outputs": [
    {
     "data": {
      "text/plain": [
       "Departamento\n",
       "ANTIOQUIA             635\n",
       "ARAUCA                347\n",
       "NARIÑO                335\n",
       "CAUCA                 317\n",
       "META                  312\n",
       "NORTE DE SANTANDER    304\n",
       "PUTUMAYO              285\n",
       "HUILA                 159\n",
       "VALLE                 149\n",
       "TOLIMA                133\n",
       "GUAJIRA               112\n",
       "CHOCÓ                 111\n",
       "CUNDINAMARCA           94\n",
       "GUAVIARE               66\n",
       "CAQUETÁ                60\n",
       "CASANARE               49\n",
       "CESAR                  48\n",
       "MAGDALENA              35\n",
       "BOYACÁ                 32\n",
       "SANTANDER              26\n",
       "BOLÍVAR                23\n",
       "QUINDÍO                11\n",
       "CÓRDOBA                 9\n",
       "CALDAS                  7\n",
       "ATLÁNTICO               6\n",
       "VICHADA                 5\n",
       "RISARALDA               3\n",
       "SUCRE                   2\n",
       "AMAZONAS                2\n",
       "Name: CANTIDAD, dtype: int64"
      ]
     },
     "execution_count": 11,
     "metadata": {},
     "output_type": "execute_result"
    }
   ],
   "source": [
    "# Solución del primer punto, los 3 departamentos más afectados históricamente son Antioquia, Arauca y Nariño\n",
    "n_by_dep.sort_values(ascending = False)"
   ]
  },
  {
   "cell_type": "code",
   "execution_count": 12,
   "metadata": {},
   "outputs": [
    {
     "data": {
      "text/plain": [
       "Departamento\n",
       "ARAUCA                7\n",
       "CHOCÓ                 4\n",
       "NORTE DE SANTANDER    3\n",
       "ANTIOQUIA             2\n",
       "META                  2\n",
       "CASANARE              1\n",
       "Name: CANTIDAD, dtype: int64"
      ]
     },
     "execution_count": 12,
     "metadata": {},
     "output_type": "execute_result"
    }
   ],
   "source": [
    "# Filtro para encontrar los 3 departamentos más afectados en el último año, los cuales son son Arauca, Chocó y Norte de Santander\n",
    "start_date = \"2021-1-1\"\n",
    "end_date = \"2021-1-31\"\n",
    "\n",
    "after_start_date = df_Terr[\"FECHA HECHO\"] >= start_date\n",
    "before_end_date = df_Terr[\"FECHA HECHO\"] <= end_date\n",
    "between_two_dates = after_start_date & before_end_date\n",
    "filtered_dates = df_Terr.loc[between_two_dates]\n",
    "\n",
    "n_by_dep_last_year = filtered_dates.groupby(\"Departamento\")[\"CANTIDAD\"].count()\n",
    "n_by_dep_last_year.sort_values(ascending = False)\n"
   ]
  },
  {
   "cell_type": "markdown",
   "metadata": {},
   "source": [
    "### Top armas/medios más utilizados para el delito"
   ]
  },
  {
   "cell_type": "code",
   "execution_count": 13,
   "metadata": {},
   "outputs": [],
   "source": [
    "n_by_dep = df_Terr.groupby(\"ARMAS MEDIOS\")[\"CANTIDAD\"].count()"
   ]
  },
  {
   "cell_type": "code",
   "execution_count": 14,
   "metadata": {},
   "outputs": [
    {
     "data": {
      "text/plain": [
       "ARMAS MEDIOS\n",
       "ARTEFACTO EXPLOSIVO/CARGA DINAMITA    1562\n",
       "GRANADA DE MANO                        761\n",
       "COMBUSTIBLE                            321\n",
       "ARTEFACTO INCENDIARIO                  254\n",
       "ARMA DE FUEGO                          157\n",
       "MINA ANTIPERSONA                       149\n",
       "NO REPORTADO                           129\n",
       "PAQUETE BOMBA                           77\n",
       "CILINDRO BOMBA                          63\n",
       "CARRO BOMBA                             46\n",
       "MOTO BOMBA                              29\n",
       "-                                       24\n",
       "GRANADA DE MORTERO                      22\n",
       "OLLA BOMBA                              19\n",
       "SIN EMPLEO DE ARMAS                     18\n",
       "GRANADA DE FUSIL                        12\n",
       "PETARDO PLANFETARIO                      7\n",
       "BALON BOMBA                              6\n",
       "ROCKET                                   5\n",
       "CANTINA BOMBA                            3\n",
       "PAPA EXPLOSIVA                           3\n",
       "CASA BOMBA                               2\n",
       "LANCHA BOMBA                             2\n",
       "CABALLO BOMBA                            2\n",
       "CARTA BOMBA                              1\n",
       "BURRO BOMBA                              1\n",
       "BICICLETA BOMBA                          1\n",
       "PERSONA BOMBA                            1\n",
       "Name: CANTIDAD, dtype: int64"
      ]
     },
     "execution_count": 14,
     "metadata": {},
     "output_type": "execute_result"
    }
   ],
   "source": [
    "# Solución del segundo punto, el arma más utilizada históricamente es el artefacto explosivo/carga dinamita.\n",
    "n_by_dep.sort_values(ascending = False)"
   ]
  },
  {
   "cell_type": "markdown",
   "metadata": {},
   "source": [
    "### Tendencia a cometer delito según el mes"
   ]
  },
  {
   "cell_type": "code",
   "execution_count": 31,
   "metadata": {},
   "outputs": [],
   "source": [
    "# Solución del cuarto punto, se evidencia una tendencia de aumento en el delito para el mes de Mayo.\n",
    "n_by_month = df_Terr.groupby(pd.Grouper(key='FECHA HECHO', axis=0, \n",
    "                      freq='M')).sum()"
   ]
  },
  {
   "cell_type": "code",
   "execution_count": 34,
   "metadata": {},
   "outputs": [
    {
     "data": {
      "text/html": [
       "<div>\n",
       "<style scoped>\n",
       "    .dataframe tbody tr th:only-of-type {\n",
       "        vertical-align: middle;\n",
       "    }\n",
       "\n",
       "    .dataframe tbody tr th {\n",
       "        vertical-align: top;\n",
       "    }\n",
       "\n",
       "    .dataframe thead th {\n",
       "        text-align: right;\n",
       "    }\n",
       "</style>\n",
       "<table border=\"1\" class=\"dataframe\">\n",
       "  <thead>\n",
       "    <tr style=\"text-align: right;\">\n",
       "      <th></th>\n",
       "      <th>CODIGO DANE</th>\n",
       "      <th>CANTIDAD</th>\n",
       "    </tr>\n",
       "    <tr>\n",
       "      <th>FECHA HECHO</th>\n",
       "      <th></th>\n",
       "      <th></th>\n",
       "    </tr>\n",
       "  </thead>\n",
       "  <tbody>\n",
       "    <tr>\n",
       "      <th>2010-01-31</th>\n",
       "      <td>1306254000</td>\n",
       "      <td>24</td>\n",
       "    </tr>\n",
       "    <tr>\n",
       "      <th>2010-02-28</th>\n",
       "      <td>1077800000</td>\n",
       "      <td>22</td>\n",
       "    </tr>\n",
       "    <tr>\n",
       "      <th>2010-03-31</th>\n",
       "      <td>1218613000</td>\n",
       "      <td>23</td>\n",
       "    </tr>\n",
       "    <tr>\n",
       "      <th>2010-04-30</th>\n",
       "      <td>1243071000</td>\n",
       "      <td>25</td>\n",
       "    </tr>\n",
       "    <tr>\n",
       "      <th>2010-05-31</th>\n",
       "      <td>1250683000</td>\n",
       "      <td>34</td>\n",
       "    </tr>\n",
       "    <tr>\n",
       "      <th>...</th>\n",
       "      <td>...</td>\n",
       "      <td>...</td>\n",
       "    </tr>\n",
       "    <tr>\n",
       "      <th>2021-03-31</th>\n",
       "      <td>172910000</td>\n",
       "      <td>15</td>\n",
       "    </tr>\n",
       "    <tr>\n",
       "      <th>2021-04-30</th>\n",
       "      <td>314553000</td>\n",
       "      <td>12</td>\n",
       "    </tr>\n",
       "    <tr>\n",
       "      <th>2021-05-31</th>\n",
       "      <td>1242285000</td>\n",
       "      <td>27</td>\n",
       "    </tr>\n",
       "    <tr>\n",
       "      <th>2021-06-30</th>\n",
       "      <td>426720000</td>\n",
       "      <td>17</td>\n",
       "    </tr>\n",
       "    <tr>\n",
       "      <th>2021-07-31</th>\n",
       "      <td>100738000</td>\n",
       "      <td>3</td>\n",
       "    </tr>\n",
       "  </tbody>\n",
       "</table>\n",
       "<p>139 rows × 2 columns</p>\n",
       "</div>"
      ],
      "text/plain": [
       "             CODIGO DANE  CANTIDAD\n",
       "FECHA HECHO                       \n",
       "2010-01-31    1306254000        24\n",
       "2010-02-28    1077800000        22\n",
       "2010-03-31    1218613000        23\n",
       "2010-04-30    1243071000        25\n",
       "2010-05-31    1250683000        34\n",
       "...                  ...       ...\n",
       "2021-03-31     172910000        15\n",
       "2021-04-30     314553000        12\n",
       "2021-05-31    1242285000        27\n",
       "2021-06-30     426720000        17\n",
       "2021-07-31     100738000         3\n",
       "\n",
       "[139 rows x 2 columns]"
      ]
     },
     "execution_count": 34,
     "metadata": {},
     "output_type": "execute_result"
    }
   ],
   "source": [
    "n_by_month"
   ]
  },
  {
   "cell_type": "code",
   "execution_count": null,
   "metadata": {},
   "outputs": [],
   "source": []
  }
 ],
 "metadata": {
  "kernelspec": {
   "display_name": "Python 3",
   "language": "python",
   "name": "python3"
  },
  "language_info": {
   "codemirror_mode": {
    "name": "ipython",
    "version": 3
   },
   "file_extension": ".py",
   "mimetype": "text/x-python",
   "name": "python",
   "nbconvert_exporter": "python",
   "pygments_lexer": "ipython3",
   "version": "3.8.8"
  }
 },
 "nbformat": 4,
 "nbformat_minor": 4
}
